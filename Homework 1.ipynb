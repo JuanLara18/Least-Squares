{
 "cells": [
  {
   "cell_type": "markdown",
   "id": "d7859799",
   "metadata": {},
   "source": [
    "# <center> Tarea 1"
   ]
  },
  {
   "cell_type": "markdown",
   "id": "1114deae",
   "metadata": {},
   "source": [
    "###     Punto 1\n",
    "    \n",
    "*Related with the nature of the data, which conditions should meet matrices $A$ and $b$ to be solvable from the least squares perspective.*"
   ]
  },
  {
   "cell_type": "markdown",
   "id": "ef68f5d7",
   "metadata": {},
   "source": [
    "Para desarrollar satisfactoriamente esta pregunta vamos a analizar cómo surge el problema de mínimos cuadrados relativo a la naturaleza de los datos.\n",
    "\n",
    "Dado un conjunto de datos $\\mathcal{D} = \\{ \\vec{u}_i, v_i \\}_{i = 1, \\ldots, N} \\subset \\mathbb{R}^{d+1}$, con ánimos de predecir o estimar datos no suministrados ajustaremos los datos dados a un modelo lineal. Supongamos que el hiperplano que mejor se ajusta a los datos es $ \\vec{w}^T \\vec{x} + r = 0 $, luego el error de estimación del modelo en cada dato es\n",
    "\n",
    "$$\n",
    "    \\varepsilon_i = \\vec{w}^T \\vec{u}_i  + r - v_i = r + \\vec{u}_i^T \\vec{w} - v_i, \\quad\\quad i=1, \\ldots, N.\n",
    "$$\n",
    "\n",
    "Ejemplificamos mediante la siguiente gráfica cada uno de estos errores representado por las líneas rojas."
   ]
  },
  {
   "cell_type": "code",
   "execution_count": 41,
   "id": "21a1ee47",
   "metadata": {
    "scrolled": false
   },
   "outputs": [
    {
     "data": {
      "image/svg+xml": [
       "<?xml version=\"1.0\" encoding=\"utf-8\"?>\n",
       "<svg xmlns=\"http://www.w3.org/2000/svg\" xmlns:xlink=\"http://www.w3.org/1999/xlink\" width=\"600\" height=\"400\" viewBox=\"0 0 2400 1600\">\n",
       "<defs>\n",
       "  <clipPath id=\"clip170\">\n",
       "    <rect x=\"0\" y=\"0\" width=\"2400\" height=\"1600\"/>\n",
       "  </clipPath>\n",
       "</defs>\n",
       "<path clip-path=\"url(#clip170)\" d=\"\n",
       "M0 1600 L2400 1600 L2400 0 L0 0  Z\n",
       "  \" fill=\"#ffffff\" fill-rule=\"evenodd\" fill-opacity=\"1\"/>\n",
       "<defs>\n",
       "  <clipPath id=\"clip171\">\n",
       "    <rect x=\"480\" y=\"0\" width=\"1681\" height=\"1600\"/>\n",
       "  </clipPath>\n",
       "</defs>\n",
       "<path clip-path=\"url(#clip170)\" d=\"\n",
       "M156.598 1486.45 L2352.76 1486.45 L2352.76 47.2441 L156.598 47.2441  Z\n",
       "  \" fill=\"#ffffff\" fill-rule=\"evenodd\" fill-opacity=\"1\"/>\n",
       "<defs>\n",
       "  <clipPath id=\"clip172\">\n",
       "    <rect x=\"156\" y=\"47\" width=\"2197\" height=\"1440\"/>\n",
       "  </clipPath>\n",
       "</defs>\n",
       "<polyline clip-path=\"url(#clip172)\" style=\"stroke:#000000; stroke-linecap:butt; stroke-linejoin:round; stroke-width:2; stroke-opacity:0.1; fill:none\" points=\"\n",
       "  156.598,1486.45 156.598,47.2441 \n",
       "  \"/>\n",
       "<polyline clip-path=\"url(#clip172)\" style=\"stroke:#000000; stroke-linecap:butt; stroke-linejoin:round; stroke-width:2; stroke-opacity:0.1; fill:none\" points=\"\n",
       "  679.742,1486.45 679.742,47.2441 \n",
       "  \"/>\n",
       "<polyline clip-path=\"url(#clip172)\" style=\"stroke:#000000; stroke-linecap:butt; stroke-linejoin:round; stroke-width:2; stroke-opacity:0.1; fill:none\" points=\"\n",
       "  1202.89,1486.45 1202.89,47.2441 \n",
       "  \"/>\n",
       "<polyline clip-path=\"url(#clip172)\" style=\"stroke:#000000; stroke-linecap:butt; stroke-linejoin:round; stroke-width:2; stroke-opacity:0.1; fill:none\" points=\"\n",
       "  1726.03,1486.45 1726.03,47.2441 \n",
       "  \"/>\n",
       "<polyline clip-path=\"url(#clip172)\" style=\"stroke:#000000; stroke-linecap:butt; stroke-linejoin:round; stroke-width:2; stroke-opacity:0.1; fill:none\" points=\"\n",
       "  2249.17,1486.45 2249.17,47.2441 \n",
       "  \"/>\n",
       "<polyline clip-path=\"url(#clip170)\" style=\"stroke:#000000; stroke-linecap:butt; stroke-linejoin:round; stroke-width:4; stroke-opacity:1; fill:none\" points=\"\n",
       "  156.598,1486.45 2352.76,1486.45 \n",
       "  \"/>\n",
       "<polyline clip-path=\"url(#clip170)\" style=\"stroke:#000000; stroke-linecap:butt; stroke-linejoin:round; stroke-width:4; stroke-opacity:1; fill:none\" points=\"\n",
       "  156.598,1486.45 156.598,1467.55 \n",
       "  \"/>\n",
       "<polyline clip-path=\"url(#clip170)\" style=\"stroke:#000000; stroke-linecap:butt; stroke-linejoin:round; stroke-width:4; stroke-opacity:1; fill:none\" points=\"\n",
       "  679.742,1486.45 679.742,1467.55 \n",
       "  \"/>\n",
       "<polyline clip-path=\"url(#clip170)\" style=\"stroke:#000000; stroke-linecap:butt; stroke-linejoin:round; stroke-width:4; stroke-opacity:1; fill:none\" points=\"\n",
       "  1202.89,1486.45 1202.89,1467.55 \n",
       "  \"/>\n",
       "<polyline clip-path=\"url(#clip170)\" style=\"stroke:#000000; stroke-linecap:butt; stroke-linejoin:round; stroke-width:4; stroke-opacity:1; fill:none\" points=\"\n",
       "  1726.03,1486.45 1726.03,1467.55 \n",
       "  \"/>\n",
       "<polyline clip-path=\"url(#clip170)\" style=\"stroke:#000000; stroke-linecap:butt; stroke-linejoin:round; stroke-width:4; stroke-opacity:1; fill:none\" points=\"\n",
       "  2249.17,1486.45 2249.17,1467.55 \n",
       "  \"/>\n",
       "<path clip-path=\"url(#clip170)\" d=\"M156.598 1517.37 Q152.987 1517.37 151.158 1520.93 Q149.353 1524.47 149.353 1531.6 Q149.353 1538.71 151.158 1542.27 Q152.987 1545.82 156.598 1545.82 Q160.232 1545.82 162.038 1542.27 Q163.867 1538.71 163.867 1531.6 Q163.867 1524.47 162.038 1520.93 Q160.232 1517.37 156.598 1517.37 M156.598 1513.66 Q162.408 1513.66 165.464 1518.27 Q168.543 1522.85 168.543 1531.6 Q168.543 1540.33 165.464 1544.94 Q162.408 1549.52 156.598 1549.52 Q150.788 1549.52 147.709 1544.94 Q144.654 1540.33 144.654 1531.6 Q144.654 1522.85 147.709 1518.27 Q150.788 1513.66 156.598 1513.66 Z\" fill=\"#000000\" fill-rule=\"evenodd\" fill-opacity=\"1\" /><path clip-path=\"url(#clip170)\" d=\"M670.02 1514.29 L688.376 1514.29 L688.376 1518.22 L674.302 1518.22 L674.302 1526.7 Q675.321 1526.35 676.339 1526.19 Q677.358 1526 678.376 1526 Q684.163 1526 687.543 1529.17 Q690.923 1532.34 690.923 1537.76 Q690.923 1543.34 687.45 1546.44 Q683.978 1549.52 677.659 1549.52 Q675.483 1549.52 673.214 1549.15 Q670.969 1548.78 668.562 1548.04 L668.562 1543.34 Q670.645 1544.47 672.867 1545.03 Q675.089 1545.58 677.566 1545.58 Q681.571 1545.58 683.909 1543.48 Q686.247 1541.37 686.247 1537.76 Q686.247 1534.15 683.909 1532.04 Q681.571 1529.94 677.566 1529.94 Q675.691 1529.94 673.816 1530.35 Q671.964 1530.77 670.02 1531.65 L670.02 1514.29 Z\" fill=\"#000000\" fill-rule=\"evenodd\" fill-opacity=\"1\" /><path clip-path=\"url(#clip170)\" d=\"M1177.57 1544.91 L1185.21 1544.91 L1185.21 1518.55 L1176.9 1520.21 L1176.9 1515.95 L1185.17 1514.29 L1189.84 1514.29 L1189.84 1544.91 L1197.48 1544.91 L1197.48 1548.85 L1177.57 1548.85 L1177.57 1544.91 Z\" fill=\"#000000\" fill-rule=\"evenodd\" fill-opacity=\"1\" /><path clip-path=\"url(#clip170)\" d=\"M1216.93 1517.37 Q1213.31 1517.37 1211.49 1520.93 Q1209.68 1524.47 1209.68 1531.6 Q1209.68 1538.71 1211.49 1542.27 Q1213.31 1545.82 1216.93 1545.82 Q1220.56 1545.82 1222.36 1542.27 Q1224.19 1538.71 1224.19 1531.6 Q1224.19 1524.47 1222.36 1520.93 Q1220.56 1517.37 1216.93 1517.37 M1216.93 1513.66 Q1222.74 1513.66 1225.79 1518.27 Q1228.87 1522.85 1228.87 1531.6 Q1228.87 1540.33 1225.79 1544.94 Q1222.74 1549.52 1216.93 1549.52 Q1211.11 1549.52 1208.04 1544.94 Q1204.98 1540.33 1204.98 1531.6 Q1204.98 1522.85 1208.04 1518.27 Q1211.11 1513.66 1216.93 1513.66 Z\" fill=\"#000000\" fill-rule=\"evenodd\" fill-opacity=\"1\" /><path clip-path=\"url(#clip170)\" d=\"M1701.21 1544.91 L1708.85 1544.91 L1708.85 1518.55 L1700.54 1520.21 L1700.54 1515.95 L1708.81 1514.29 L1713.48 1514.29 L1713.48 1544.91 L1721.12 1544.91 L1721.12 1548.85 L1701.21 1548.85 L1701.21 1544.91 Z\" fill=\"#000000\" fill-rule=\"evenodd\" fill-opacity=\"1\" /><path clip-path=\"url(#clip170)\" d=\"M1730.61 1514.29 L1748.97 1514.29 L1748.97 1518.22 L1734.9 1518.22 L1734.9 1526.7 Q1735.91 1526.35 1736.93 1526.19 Q1737.95 1526 1738.97 1526 Q1744.76 1526 1748.14 1529.17 Q1751.52 1532.34 1751.52 1537.76 Q1751.52 1543.34 1748.04 1546.44 Q1744.57 1549.52 1738.25 1549.52 Q1736.08 1549.52 1733.81 1549.15 Q1731.56 1548.78 1729.15 1548.04 L1729.15 1543.34 Q1731.24 1544.47 1733.46 1545.03 Q1735.68 1545.58 1738.16 1545.58 Q1742.16 1545.58 1744.5 1543.48 Q1746.84 1541.37 1746.84 1537.76 Q1746.84 1534.15 1744.5 1532.04 Q1742.16 1529.94 1738.16 1529.94 Q1736.28 1529.94 1734.41 1530.35 Q1732.56 1530.77 1730.61 1531.65 L1730.61 1514.29 Z\" fill=\"#000000\" fill-rule=\"evenodd\" fill-opacity=\"1\" /><path clip-path=\"url(#clip170)\" d=\"M2227.95 1544.91 L2244.27 1544.91 L2244.27 1548.85 L2222.32 1548.85 L2222.32 1544.91 Q2224.98 1542.16 2229.57 1537.53 Q2234.17 1532.88 2235.35 1531.53 Q2237.6 1529.01 2238.48 1527.27 Q2239.38 1525.51 2239.38 1523.82 Q2239.38 1521.07 2237.44 1519.33 Q2235.52 1517.6 2232.41 1517.6 Q2230.22 1517.6 2227.76 1518.36 Q2225.33 1519.13 2222.55 1520.68 L2222.55 1515.95 Q2225.38 1514.82 2227.83 1514.24 Q2230.28 1513.66 2232.32 1513.66 Q2237.69 1513.66 2240.89 1516.35 Q2244.08 1519.03 2244.08 1523.52 Q2244.08 1525.65 2243.27 1527.57 Q2242.48 1529.47 2240.38 1532.07 Q2239.8 1532.74 2236.7 1535.95 Q2233.59 1539.15 2227.95 1544.91 Z\" fill=\"#000000\" fill-rule=\"evenodd\" fill-opacity=\"1\" /><path clip-path=\"url(#clip170)\" d=\"M2264.08 1517.37 Q2260.47 1517.37 2258.64 1520.93 Q2256.84 1524.47 2256.84 1531.6 Q2256.84 1538.71 2258.64 1542.27 Q2260.47 1545.82 2264.08 1545.82 Q2267.72 1545.82 2269.52 1542.27 Q2271.35 1538.71 2271.35 1531.6 Q2271.35 1524.47 2269.52 1520.93 Q2267.72 1517.37 2264.08 1517.37 M2264.08 1513.66 Q2269.89 1513.66 2272.95 1518.27 Q2276.03 1522.85 2276.03 1531.6 Q2276.03 1540.33 2272.95 1544.94 Q2269.89 1549.52 2264.08 1549.52 Q2258.27 1549.52 2255.19 1544.94 Q2252.14 1540.33 2252.14 1531.6 Q2252.14 1522.85 2255.19 1518.27 Q2258.27 1513.66 2264.08 1513.66 Z\" fill=\"#000000\" fill-rule=\"evenodd\" fill-opacity=\"1\" /><polyline clip-path=\"url(#clip172)\" style=\"stroke:#000000; stroke-linecap:butt; stroke-linejoin:round; stroke-width:2; stroke-opacity:0.1; fill:none\" points=\"\n",
       "  156.598,1218.17 2352.76,1218.17 \n",
       "  \"/>\n",
       "<polyline clip-path=\"url(#clip172)\" style=\"stroke:#000000; stroke-linecap:butt; stroke-linejoin:round; stroke-width:2; stroke-opacity:0.1; fill:none\" points=\"\n",
       "  156.598,905.476 2352.76,905.476 \n",
       "  \"/>\n",
       "<polyline clip-path=\"url(#clip172)\" style=\"stroke:#000000; stroke-linecap:butt; stroke-linejoin:round; stroke-width:2; stroke-opacity:0.1; fill:none\" points=\"\n",
       "  156.598,592.785 2352.76,592.785 \n",
       "  \"/>\n",
       "<polyline clip-path=\"url(#clip172)\" style=\"stroke:#000000; stroke-linecap:butt; stroke-linejoin:round; stroke-width:2; stroke-opacity:0.1; fill:none\" points=\"\n",
       "  156.598,280.094 2352.76,280.094 \n",
       "  \"/>\n",
       "<polyline clip-path=\"url(#clip170)\" style=\"stroke:#000000; stroke-linecap:butt; stroke-linejoin:round; stroke-width:4; stroke-opacity:1; fill:none\" points=\"\n",
       "  156.598,1486.45 156.598,47.2441 \n",
       "  \"/>\n",
       "<polyline clip-path=\"url(#clip170)\" style=\"stroke:#000000; stroke-linecap:butt; stroke-linejoin:round; stroke-width:4; stroke-opacity:1; fill:none\" points=\"\n",
       "  156.598,1218.17 175.496,1218.17 \n",
       "  \"/>\n",
       "<polyline clip-path=\"url(#clip170)\" style=\"stroke:#000000; stroke-linecap:butt; stroke-linejoin:round; stroke-width:4; stroke-opacity:1; fill:none\" points=\"\n",
       "  156.598,905.476 175.496,905.476 \n",
       "  \"/>\n",
       "<polyline clip-path=\"url(#clip170)\" style=\"stroke:#000000; stroke-linecap:butt; stroke-linejoin:round; stroke-width:4; stroke-opacity:1; fill:none\" points=\"\n",
       "  156.598,592.785 175.496,592.785 \n",
       "  \"/>\n",
       "<polyline clip-path=\"url(#clip170)\" style=\"stroke:#000000; stroke-linecap:butt; stroke-linejoin:round; stroke-width:4; stroke-opacity:1; fill:none\" points=\"\n",
       "  156.598,280.094 175.496,280.094 \n",
       "  \"/>\n",
       "<path clip-path=\"url(#clip170)\" d=\"M65.0198 1203.97 Q61.4087 1203.97 59.58 1207.53 Q57.7745 1211.07 57.7745 1218.2 Q57.7745 1225.31 59.58 1228.87 Q61.4087 1232.41 65.0198 1232.41 Q68.6541 1232.41 70.4596 1228.87 Q72.2883 1225.31 72.2883 1218.2 Q72.2883 1211.07 70.4596 1207.53 Q68.6541 1203.97 65.0198 1203.97 M65.0198 1200.26 Q70.83 1200.26 73.8855 1204.87 Q76.9642 1209.45 76.9642 1218.2 Q76.9642 1226.93 73.8855 1231.53 Q70.83 1236.12 65.0198 1236.12 Q59.2097 1236.12 56.131 1231.53 Q53.0754 1226.93 53.0754 1218.2 Q53.0754 1209.45 56.131 1204.87 Q59.2097 1200.26 65.0198 1200.26 Z\" fill=\"#000000\" fill-rule=\"evenodd\" fill-opacity=\"1\" /><path clip-path=\"url(#clip170)\" d=\"M85.1818 1229.57 L90.066 1229.57 L90.066 1235.45 L85.1818 1235.45 L85.1818 1229.57 Z\" fill=\"#000000\" fill-rule=\"evenodd\" fill-opacity=\"1\" /><path clip-path=\"url(#clip170)\" d=\"M104.279 1231.51 L120.598 1231.51 L120.598 1235.45 L98.6539 1235.45 L98.6539 1231.51 Q101.316 1228.76 105.899 1224.13 Q110.506 1219.47 111.686 1218.13 Q113.932 1215.61 114.811 1213.87 Q115.714 1212.11 115.714 1210.42 Q115.714 1207.67 113.77 1205.93 Q111.848 1204.2 108.746 1204.2 Q106.547 1204.2 104.094 1204.96 Q101.663 1205.72 98.8854 1207.28 L98.8854 1202.55 Q101.709 1201.42 104.163 1200.84 Q106.617 1200.26 108.654 1200.26 Q114.024 1200.26 117.219 1202.95 Q120.413 1205.63 120.413 1210.12 Q120.413 1212.25 119.603 1214.17 Q118.816 1216.07 116.709 1218.66 Q116.131 1219.34 113.029 1222.55 Q109.927 1225.75 104.279 1231.51 Z\" fill=\"#000000\" fill-rule=\"evenodd\" fill-opacity=\"1\" /><path clip-path=\"url(#clip170)\" d=\"M62.9365 891.274 Q59.3254 891.274 57.4967 894.839 Q55.6912 898.381 55.6912 905.51 Q55.6912 912.617 57.4967 916.182 Q59.3254 919.723 62.9365 919.723 Q66.5707 919.723 68.3763 916.182 Q70.205 912.617 70.205 905.51 Q70.205 898.381 68.3763 894.839 Q66.5707 891.274 62.9365 891.274 M62.9365 887.571 Q68.7467 887.571 71.8022 892.177 Q74.8809 896.76 74.8809 905.51 Q74.8809 914.237 71.8022 918.844 Q68.7467 923.427 62.9365 923.427 Q57.1264 923.427 54.0477 918.844 Q50.9921 914.237 50.9921 905.51 Q50.9921 896.76 54.0477 892.177 Q57.1264 887.571 62.9365 887.571 Z\" fill=\"#000000\" fill-rule=\"evenodd\" fill-opacity=\"1\" /><path clip-path=\"url(#clip170)\" d=\"M83.0984 916.876 L87.9827 916.876 L87.9827 922.756 L83.0984 922.756 L83.0984 916.876 Z\" fill=\"#000000\" fill-rule=\"evenodd\" fill-opacity=\"1\" /><path clip-path=\"url(#clip170)\" d=\"M111.015 892.27 L99.2095 910.719 L111.015 910.719 L111.015 892.27 M109.788 888.196 L115.668 888.196 L115.668 910.719 L120.598 910.719 L120.598 914.607 L115.668 914.607 L115.668 922.756 L111.015 922.756 L111.015 914.607 L95.4132 914.607 L95.4132 910.094 L109.788 888.196 Z\" fill=\"#000000\" fill-rule=\"evenodd\" fill-opacity=\"1\" /><path clip-path=\"url(#clip170)\" d=\"M63.2606 578.583 Q59.6495 578.583 57.8208 582.148 Q56.0152 585.69 56.0152 592.82 Q56.0152 599.926 57.8208 603.491 Q59.6495 607.032 63.2606 607.032 Q66.8948 607.032 68.7004 603.491 Q70.5291 599.926 70.5291 592.82 Q70.5291 585.69 68.7004 582.148 Q66.8948 578.583 63.2606 578.583 M63.2606 574.88 Q69.0707 574.88 72.1263 579.486 Q75.205 584.07 75.205 592.82 Q75.205 601.546 72.1263 606.153 Q69.0707 610.736 63.2606 610.736 Q57.4504 610.736 54.3717 606.153 Q51.3162 601.546 51.3162 592.82 Q51.3162 584.07 54.3717 579.486 Q57.4504 574.88 63.2606 574.88 Z\" fill=\"#000000\" fill-rule=\"evenodd\" fill-opacity=\"1\" /><path clip-path=\"url(#clip170)\" d=\"M83.4225 604.185 L88.3067 604.185 L88.3067 610.065 L83.4225 610.065 L83.4225 604.185 Z\" fill=\"#000000\" fill-rule=\"evenodd\" fill-opacity=\"1\" /><path clip-path=\"url(#clip170)\" d=\"M109.071 590.921 Q105.922 590.921 104.071 593.074 Q102.242 595.227 102.242 598.977 Q102.242 602.704 104.071 604.88 Q105.922 607.032 109.071 607.032 Q112.219 607.032 114.047 604.88 Q115.899 602.704 115.899 598.977 Q115.899 595.227 114.047 593.074 Q112.219 590.921 109.071 590.921 M118.353 576.269 L118.353 580.528 Q116.594 579.695 114.788 579.255 Q113.006 578.815 111.246 578.815 Q106.617 578.815 104.163 581.94 Q101.733 585.065 101.385 591.384 Q102.751 589.37 104.811 588.306 Q106.871 587.218 109.348 587.218 Q114.557 587.218 117.566 590.389 Q120.598 593.537 120.598 598.977 Q120.598 604.301 117.45 607.519 Q114.302 610.736 109.071 610.736 Q103.075 610.736 99.9039 606.153 Q96.7326 601.546 96.7326 592.82 Q96.7326 584.625 100.621 579.764 Q104.51 574.88 111.061 574.88 Q112.82 574.88 114.603 575.227 Q116.408 575.574 118.353 576.269 Z\" fill=\"#000000\" fill-rule=\"evenodd\" fill-opacity=\"1\" /><path clip-path=\"url(#clip170)\" d=\"M63.5152 265.893 Q59.9041 265.893 58.0754 269.457 Q56.2699 272.999 56.2699 280.129 Q56.2699 287.235 58.0754 290.8 Q59.9041 294.342 63.5152 294.342 Q67.1494 294.342 68.955 290.8 Q70.7837 287.235 70.7837 280.129 Q70.7837 272.999 68.955 269.457 Q67.1494 265.893 63.5152 265.893 M63.5152 262.189 Q69.3254 262.189 72.3809 266.795 Q75.4596 271.379 75.4596 280.129 Q75.4596 288.856 72.3809 293.462 Q69.3254 298.045 63.5152 298.045 Q57.7051 298.045 54.6264 293.462 Q51.5708 288.856 51.5708 280.129 Q51.5708 271.379 54.6264 266.795 Q57.7051 262.189 63.5152 262.189 Z\" fill=\"#000000\" fill-rule=\"evenodd\" fill-opacity=\"1\" /><path clip-path=\"url(#clip170)\" d=\"M83.6771 291.494 L88.5614 291.494 L88.5614 297.374 L83.6771 297.374 L83.6771 291.494 Z\" fill=\"#000000\" fill-rule=\"evenodd\" fill-opacity=\"1\" /><path clip-path=\"url(#clip170)\" d=\"M108.746 280.962 Q105.413 280.962 103.492 282.744 Q101.594 284.527 101.594 287.652 Q101.594 290.777 103.492 292.559 Q105.413 294.342 108.746 294.342 Q112.08 294.342 114.001 292.559 Q115.922 290.754 115.922 287.652 Q115.922 284.527 114.001 282.744 Q112.103 280.962 108.746 280.962 M104.071 278.971 Q101.061 278.231 99.3715 276.17 Q97.7048 274.11 97.7048 271.147 Q97.7048 267.004 100.645 264.596 Q103.608 262.189 108.746 262.189 Q113.908 262.189 116.848 264.596 Q119.788 267.004 119.788 271.147 Q119.788 274.11 118.098 276.17 Q116.432 278.231 113.445 278.971 Q116.825 279.758 118.7 282.05 Q120.598 284.342 120.598 287.652 Q120.598 292.675 117.52 295.36 Q114.464 298.045 108.746 298.045 Q103.029 298.045 99.9502 295.36 Q96.8947 292.675 96.8947 287.652 Q96.8947 284.342 98.7928 282.05 Q100.691 279.758 104.071 278.971 M102.358 271.587 Q102.358 274.272 104.024 275.777 Q105.714 277.282 108.746 277.282 Q111.756 277.282 113.445 275.777 Q115.158 274.272 115.158 271.587 Q115.158 268.902 113.445 267.397 Q111.756 265.893 108.746 265.893 Q105.714 265.893 104.024 267.397 Q102.358 268.902 102.358 271.587 Z\" fill=\"#000000\" fill-rule=\"evenodd\" fill-opacity=\"1\" /><circle clip-path=\"url(#clip172)\" cx=\"261.227\" cy=\"671.095\" r=\"14\" fill=\"#009af9\" fill-rule=\"evenodd\" fill-opacity=\"1\" stroke=\"#000000\" stroke-opacity=\"1\" stroke-width=\"3.2\"/>\n",
       "<circle clip-path=\"url(#clip172)\" cx=\"365.856\" cy=\"214.221\" r=\"14\" fill=\"#009af9\" fill-rule=\"evenodd\" fill-opacity=\"1\" stroke=\"#000000\" stroke-opacity=\"1\" stroke-width=\"3.2\"/>\n",
       "<circle clip-path=\"url(#clip172)\" cx=\"470.485\" cy=\"418.863\" r=\"14\" fill=\"#009af9\" fill-rule=\"evenodd\" fill-opacity=\"1\" stroke=\"#000000\" stroke-opacity=\"1\" stroke-width=\"3.2\"/>\n",
       "<circle clip-path=\"url(#clip172)\" cx=\"575.113\" cy=\"286.331\" r=\"14\" fill=\"#009af9\" fill-rule=\"evenodd\" fill-opacity=\"1\" stroke=\"#000000\" stroke-opacity=\"1\" stroke-width=\"3.2\"/>\n",
       "<circle clip-path=\"url(#clip172)\" cx=\"679.742\" cy=\"861.841\" r=\"14\" fill=\"#009af9\" fill-rule=\"evenodd\" fill-opacity=\"1\" stroke=\"#000000\" stroke-opacity=\"1\" stroke-width=\"3.2\"/>\n",
       "<circle clip-path=\"url(#clip172)\" cx=\"784.371\" cy=\"994.682\" r=\"14\" fill=\"#009af9\" fill-rule=\"evenodd\" fill-opacity=\"1\" stroke=\"#000000\" stroke-opacity=\"1\" stroke-width=\"3.2\"/>\n",
       "<circle clip-path=\"url(#clip172)\" cx=\"889\" cy=\"87.9763\" r=\"14\" fill=\"#009af9\" fill-rule=\"evenodd\" fill-opacity=\"1\" stroke=\"#000000\" stroke-opacity=\"1\" stroke-width=\"3.2\"/>\n",
       "<circle clip-path=\"url(#clip172)\" cx=\"993.628\" cy=\"789.396\" r=\"14\" fill=\"#009af9\" fill-rule=\"evenodd\" fill-opacity=\"1\" stroke=\"#000000\" stroke-opacity=\"1\" stroke-width=\"3.2\"/>\n",
       "<circle clip-path=\"url(#clip172)\" cx=\"1098.26\" cy=\"404.598\" r=\"14\" fill=\"#009af9\" fill-rule=\"evenodd\" fill-opacity=\"1\" stroke=\"#000000\" stroke-opacity=\"1\" stroke-width=\"3.2\"/>\n",
       "<circle clip-path=\"url(#clip172)\" cx=\"1202.89\" cy=\"194.109\" r=\"14\" fill=\"#009af9\" fill-rule=\"evenodd\" fill-opacity=\"1\" stroke=\"#000000\" stroke-opacity=\"1\" stroke-width=\"3.2\"/>\n",
       "<circle clip-path=\"url(#clip172)\" cx=\"1307.51\" cy=\"704.847\" r=\"14\" fill=\"#009af9\" fill-rule=\"evenodd\" fill-opacity=\"1\" stroke=\"#000000\" stroke-opacity=\"1\" stroke-width=\"3.2\"/>\n",
       "<circle clip-path=\"url(#clip172)\" cx=\"1412.14\" cy=\"518.574\" r=\"14\" fill=\"#009af9\" fill-rule=\"evenodd\" fill-opacity=\"1\" stroke=\"#000000\" stroke-opacity=\"1\" stroke-width=\"3.2\"/>\n",
       "<circle clip-path=\"url(#clip172)\" cx=\"1516.77\" cy=\"677.727\" r=\"14\" fill=\"#009af9\" fill-rule=\"evenodd\" fill-opacity=\"1\" stroke=\"#000000\" stroke-opacity=\"1\" stroke-width=\"3.2\"/>\n",
       "<circle clip-path=\"url(#clip172)\" cx=\"1621.4\" cy=\"160.895\" r=\"14\" fill=\"#009af9\" fill-rule=\"evenodd\" fill-opacity=\"1\" stroke=\"#000000\" stroke-opacity=\"1\" stroke-width=\"3.2\"/>\n",
       "<circle clip-path=\"url(#clip172)\" cx=\"1726.03\" cy=\"1445.72\" r=\"14\" fill=\"#009af9\" fill-rule=\"evenodd\" fill-opacity=\"1\" stroke=\"#000000\" stroke-opacity=\"1\" stroke-width=\"3.2\"/>\n",
       "<circle clip-path=\"url(#clip172)\" cx=\"1830.66\" cy=\"925.396\" r=\"14\" fill=\"#009af9\" fill-rule=\"evenodd\" fill-opacity=\"1\" stroke=\"#000000\" stroke-opacity=\"1\" stroke-width=\"3.2\"/>\n",
       "<circle clip-path=\"url(#clip172)\" cx=\"1935.29\" cy=\"609.514\" r=\"14\" fill=\"#009af9\" fill-rule=\"evenodd\" fill-opacity=\"1\" stroke=\"#000000\" stroke-opacity=\"1\" stroke-width=\"3.2\"/>\n",
       "<circle clip-path=\"url(#clip172)\" cx=\"2039.92\" cy=\"953.714\" r=\"14\" fill=\"#009af9\" fill-rule=\"evenodd\" fill-opacity=\"1\" stroke=\"#000000\" stroke-opacity=\"1\" stroke-width=\"3.2\"/>\n",
       "<circle clip-path=\"url(#clip172)\" cx=\"2144.54\" cy=\"883.003\" r=\"14\" fill=\"#009af9\" fill-rule=\"evenodd\" fill-opacity=\"1\" stroke=\"#000000\" stroke-opacity=\"1\" stroke-width=\"3.2\"/>\n",
       "<circle clip-path=\"url(#clip172)\" cx=\"2249.17\" cy=\"492.694\" r=\"14\" fill=\"#009af9\" fill-rule=\"evenodd\" fill-opacity=\"1\" stroke=\"#000000\" stroke-opacity=\"1\" stroke-width=\"3.2\"/>\n",
       "<polyline clip-path=\"url(#clip172)\" style=\"stroke:#ff0000; stroke-linecap:butt; stroke-linejoin:round; stroke-width:4; stroke-opacity:1; fill:none\" points=\"\n",
       "  261.227,671.095 261.227,430.709 \n",
       "  \"/>\n",
       "<polyline clip-path=\"url(#clip172)\" style=\"stroke:#ff0000; stroke-linecap:butt; stroke-linejoin:round; stroke-width:4; stroke-opacity:1; fill:none\" points=\"\n",
       "  365.856,214.221 365.856,450.083 \n",
       "  \"/>\n",
       "<polyline clip-path=\"url(#clip172)\" style=\"stroke:#ff0000; stroke-linecap:butt; stroke-linejoin:round; stroke-width:4; stroke-opacity:1; fill:none\" points=\"\n",
       "  470.485,418.863 470.485,469.457 \n",
       "  \"/>\n",
       "<polyline clip-path=\"url(#clip172)\" style=\"stroke:#ff0000; stroke-linecap:butt; stroke-linejoin:round; stroke-width:4; stroke-opacity:1; fill:none\" points=\"\n",
       "  575.113,286.331 575.113,488.831 \n",
       "  \"/>\n",
       "<polyline clip-path=\"url(#clip172)\" style=\"stroke:#ff0000; stroke-linecap:butt; stroke-linejoin:round; stroke-width:4; stroke-opacity:1; fill:none\" points=\"\n",
       "  679.742,861.841 679.742,508.204 \n",
       "  \"/>\n",
       "<polyline clip-path=\"url(#clip172)\" style=\"stroke:#ff0000; stroke-linecap:butt; stroke-linejoin:round; stroke-width:4; stroke-opacity:1; fill:none\" points=\"\n",
       "  784.371,994.682 784.371,527.578 \n",
       "  \"/>\n",
       "<polyline clip-path=\"url(#clip172)\" style=\"stroke:#ff0000; stroke-linecap:butt; stroke-linejoin:round; stroke-width:4; stroke-opacity:1; fill:none\" points=\"\n",
       "  889,87.9763 889,546.952 \n",
       "  \"/>\n",
       "<polyline clip-path=\"url(#clip172)\" style=\"stroke:#ff0000; stroke-linecap:butt; stroke-linejoin:round; stroke-width:4; stroke-opacity:1; fill:none\" points=\"\n",
       "  993.628,789.396 993.628,566.325 \n",
       "  \"/>\n",
       "<polyline clip-path=\"url(#clip172)\" style=\"stroke:#ff0000; stroke-linecap:butt; stroke-linejoin:round; stroke-width:4; stroke-opacity:1; fill:none\" points=\"\n",
       "  1098.26,404.598 1098.26,585.699 \n",
       "  \"/>\n",
       "<polyline clip-path=\"url(#clip172)\" style=\"stroke:#ff0000; stroke-linecap:butt; stroke-linejoin:round; stroke-width:4; stroke-opacity:1; fill:none\" points=\"\n",
       "  1202.89,194.109 1202.89,605.073 \n",
       "  \"/>\n",
       "<polyline clip-path=\"url(#clip172)\" style=\"stroke:#ff0000; stroke-linecap:butt; stroke-linejoin:round; stroke-width:4; stroke-opacity:1; fill:none\" points=\"\n",
       "  1307.51,704.847 1307.51,624.446 \n",
       "  \"/>\n",
       "<polyline clip-path=\"url(#clip172)\" style=\"stroke:#ff0000; stroke-linecap:butt; stroke-linejoin:round; stroke-width:4; stroke-opacity:1; fill:none\" points=\"\n",
       "  1412.14,518.574 1412.14,643.82 \n",
       "  \"/>\n",
       "<polyline clip-path=\"url(#clip172)\" style=\"stroke:#ff0000; stroke-linecap:butt; stroke-linejoin:round; stroke-width:4; stroke-opacity:1; fill:none\" points=\"\n",
       "  1516.77,677.727 1516.77,663.194 \n",
       "  \"/>\n",
       "<polyline clip-path=\"url(#clip172)\" style=\"stroke:#ff0000; stroke-linecap:butt; stroke-linejoin:round; stroke-width:4; stroke-opacity:1; fill:none\" points=\"\n",
       "  1621.4,160.895 1621.4,682.567 \n",
       "  \"/>\n",
       "<polyline clip-path=\"url(#clip172)\" style=\"stroke:#ff0000; stroke-linecap:butt; stroke-linejoin:round; stroke-width:4; stroke-opacity:1; fill:none\" points=\"\n",
       "  1726.03,1445.72 1726.03,701.941 \n",
       "  \"/>\n",
       "<polyline clip-path=\"url(#clip172)\" style=\"stroke:#ff0000; stroke-linecap:butt; stroke-linejoin:round; stroke-width:4; stroke-opacity:1; fill:none\" points=\"\n",
       "  1830.66,925.396 1830.66,721.315 \n",
       "  \"/>\n",
       "<polyline clip-path=\"url(#clip172)\" style=\"stroke:#ff0000; stroke-linecap:butt; stroke-linejoin:round; stroke-width:4; stroke-opacity:1; fill:none\" points=\"\n",
       "  1935.29,609.514 1935.29,740.688 \n",
       "  \"/>\n",
       "<polyline clip-path=\"url(#clip172)\" style=\"stroke:#ff0000; stroke-linecap:butt; stroke-linejoin:round; stroke-width:4; stroke-opacity:1; fill:none\" points=\"\n",
       "  2039.92,953.714 2039.92,760.062 \n",
       "  \"/>\n",
       "<polyline clip-path=\"url(#clip172)\" style=\"stroke:#ff0000; stroke-linecap:butt; stroke-linejoin:round; stroke-width:4; stroke-opacity:1; fill:none\" points=\"\n",
       "  2144.54,883.003 2144.54,779.436 \n",
       "  \"/>\n",
       "<polyline clip-path=\"url(#clip172)\" style=\"stroke:#ff0000; stroke-linecap:butt; stroke-linejoin:round; stroke-width:4; stroke-opacity:1; fill:none\" points=\"\n",
       "  2249.17,492.694 2249.17,798.809 \n",
       "  \"/>\n",
       "<polyline clip-path=\"url(#clip172)\" style=\"stroke:#008000; stroke-linecap:butt; stroke-linejoin:round; stroke-width:4; stroke-opacity:1; fill:none\" points=\"\n",
       "  261.227,430.709 365.856,450.083 470.485,469.457 575.113,488.831 679.742,508.204 784.371,527.578 889,546.952 993.628,566.325 1098.26,585.699 1202.89,605.073 \n",
       "  1307.51,624.446 1412.14,643.82 1516.77,663.194 1621.4,682.567 1726.03,701.941 1830.66,721.315 1935.29,740.688 2039.92,760.062 2144.54,779.436 2249.17,798.809 \n",
       "  \n",
       "  \"/>\n",
       "</svg>\n"
      ]
     },
     "execution_count": 41,
     "metadata": {},
     "output_type": "execute_result"
    }
   ],
   "source": [
    "# Importamos las librerias para generar datos aleatorios de acuerdo a una distribución y para graficar los resultados\n",
    "using Plots, Random, Distributions\n",
    "\n",
    "n = 20; # Cantidad de datos\n",
    "A = [ones(n,1) Array((1:n))]; # Matriz del sistema de mínimos cuadrados (se discute luego)\n",
    "b = rand(Normal(0.5, 0.25), n); # Generados puntos aleatorios bien distribuidos\n",
    "x = A\\b; # Solucionamos por mínimos cuadrados y encontramos los parámetros del modelo lineal\n",
    "\n",
    "lmodel = x[2]*A[:,2] + x[1]*ones(n,1) # Definimos el modelo lineal encontrado\n",
    "\n",
    "plot(1:n, b, seriestype = :scatter, legend = false, xlims = (0, n + 0.99)) # Graficamos los puntos\n",
    "for i in 1:n   # Graficamos los errores del modelo en cada punto\n",
    "    plot!([i, i], [b[i], lmodel[i]], color = \"red\")\n",
    "end\n",
    "plot!(1:n, lmodel, color = \"green\") # Graficamos la aproximación lineal"
   ]
  },
  {
   "cell_type": "markdown",
   "id": "dae8bb8c",
   "metadata": {},
   "source": [
    "Podemos expresar lo anterior matricialmente como $\\vec{\\varepsilon} = A\\vec{x} - \\vec{v}$ donde \n",
    "\n",
    "$$\n",
    "    A = \n",
    "    \\begin{pmatrix}\n",
    "      1 & - & \\vec{u}_1^T & - \\\\ \n",
    "      1 & - & \\vec{u}_2^T & - \\\\\n",
    "      \\vdots &  & \\vdots &  \\\\\n",
    "      1 & - & \\vec{u}_N^T & - \\\\\n",
    "    \\end{pmatrix}\n",
    "    \\in \\mathcal{M}_{N \\times (d+1)}(\\mathbb{R}),\n",
    "    \\quad\n",
    "    \\vec{x} = ( r, \\vec{w} )^T\n",
    "    \\quad\n",
    "    \\text{y}\n",
    "    \\quad\n",
    "    \\vec{v} = (v_1, v_2, \\ldots, v_N)^T.\n",
    "$$\n",
    "\n",
    "Para obtener un bueno modelo buscamos minimizar el error y para ello una forma de hacerlo es minimizar el cuadrado de la norma de este vector de error, planteando así el siguiente problema de optimización:\n",
    "\n",
    "$$\n",
    "    \\mbox{arg min}_{\\vec{x}} \\| \\varepsilon \\|_2^2 = \\mbox{arg min}_{\\vec{x}} \\| A\\vec{x} - \\vec{v} \\|_2^2.\n",
    "$$"
   ]
  },
  {
   "cell_type": "markdown",
   "id": "c20d4a88",
   "metadata": {},
   "source": [
    "Con lo anterior no solo llegamos al problema de los mínimos cuadrados como es conocido sino que además encontramos una forma más explícita de sus elementos en términos de los datos. Ahora, intentamos resolver el problema para ver cuáles son las condiciones sobre $A$ y $\\vec{v}$ para que el problema tenga solución y luego ver estas condiciones en términos de los datos.\n",
    "\n",
    "La función objetivo del problema es $f(\\vec{x}) = \\| A\\vec{x} - \\vec{v} \\|_2^2$ que es una función convexa pues $A\\vec{x} - \\vec{v}$ es lineal y luego su cuadrado es convexo, con lo cual el problema de optimización **es un problema convexo** y, afortunamente de este tipo de problemas sabemos muy bien cómo atacarlos, en principio sabemos que si la función objetivo es diferenciable entonces el mínimo global estará en el punto crítico. Para trabajar sobre la anterior idea observemos que la función objetivo la podemos reescribir como\n",
    "\n",
    "$$\n",
    "    \\begin{align*}\n",
    "        f(\\vec{x}) & = \\| A\\vec{x} - \\vec{v}\\|_2^2 \\\\\n",
    "            & = ( A\\vec{x} - \\vec{v} )^T ( A\\vec{x} - \\vec{v} ) \\\\\n",
    "            & = (A \\vec{x})^T (A \\vec{x}) - (A \\vec{x})^T \\vec{v} - \\vec{v}^T (A \\vec{x}) + \\vec{v}^T \\vec{v} \\\\\n",
    "            & = \\vec{x}^T A^T A\\vec{x} - 2 \\vec{x}^T A^T \\vec{v} + \\vec{v}^T \\vec{v}\n",
    "    \\end{align*}\n",
    "$$\n",
    "\n",
    "Con lo cual podemos calcular su derivada\n",
    "\n",
    "$$\n",
    "    \\frac{\\partial}{\\partial\\vec{x}}\\left( f(\\vec{x}) \\right) = \\frac{\\partial}{\\partial\\vec{x}}\\left( \\vec{x}^T A^T A\\vec{x} - 2 \\vec{x}^T A^T \\vec{v} + \\vec{v}^T \\vec{v} \\right)  = - 2 A^T \\vec{v} + 2 A^T A \\vec{x}\n",
    "$$\n",
    "\n",
    "de manera que los puntos críticos de la función están dados por\n",
    "\n",
    "$$\n",
    "    A^T A \\vec{x} = A^T \\vec{v}\n",
    "$$"
   ]
  },
  {
   "cell_type": "markdown",
   "id": "4e4d3672",
   "metadata": {},
   "source": [
    "De manera que nuestro problema de optimización se transforma en un sistema de ecuaciones lineales que podemos estudiar:\n",
    "\n",
    "De acuerdo a la ecuación $A^T\\vec{v} \\in Col(A^T A)$ es una condición válida, esto quiere decir que la matriz $A^TA$ tiene inversa a izquierda y para esto analicemos dos casos:\n",
    "\n",
    "1. **Las columnas de la matriz $A$ son linealmente independientes:** en este caso la matriz $A$ es de rango completo con lo cual la matriz $A^TA$ también sería de rango completo y como es cuadrada entonces existe $(A^TA)^{-1}$ y así **$\\vec{x} = (A^T A)^{-1} A^T  \\vec{v} = A^+ \\vec{v}$**.\n",
    "\n",
    "2. **Caso contrario:** como $A^TA$ es una matriz real cuadrada entonces [existe su factorización QR](http://buzzard.ups.edu/courses/2014spring/420projects/math420-UPS-spring-2014-macausland-pseudo-inverse-present.pdf) con lo cual $A^TA = QR$ luego $R \\vec{x} = Q^T \\vec{v}$ el cual es un sistema escalonado, por una parte $R$ no es invertible en este caso porque de serlo $(A^TA)^{-1} = R^{-1}Q^T$ y esta no es una matriz invertible en este caso, adicional como $R$ es una matriz triangular superior tenemos que este sistema escalonado no cuenta con todos los pivotes (pues de nuevo sería invertible) de manera que tenemos para la solución del sistema como mínimo una variable libre lo que nos daría infititas soluciones al problema, lo cual relativo a los datos no tiene gran significado puesto que buscamos el hiperplano que mejor aproxima los datos razón por la cual rechazamos este caso para el análisis del problema.\n",
    "\n",
    "De esta manera tenemos que la condición que le impondremos a la matriz **$A$** es que **sus columnas sean linealmente independientes** y el vector **$b$** del enunciado queda ligado a ser **el vector de los datos de etiqueta.**"
   ]
  },
  {
   "cell_type": "markdown",
   "id": "1cdc2b4b",
   "metadata": {},
   "source": [
    "Analicemos estas condiciones ahora respecto al conjunto de datos $\\mathcal{D}$:\n",
    "\n",
    "El que el vector $b$ solo tenga que ser el vector de los datos de etiqueda no limita estos datos con lo cual $\\{v_i\\}_{i=1, \\ldots, N} \\subset \\mathbb{R}$ lo cual en un sentido pragmático quiere decir que los datos se puede etiquetar con cualquier número para resolver el problema planteado por mínimos cuadrados. \n",
    "\n",
    "Por otra parte, el hecho de que la matriz deba tener sus columnas linealmente independientes implica que necesariamente $N >= d + 1$ o de manera equivalente que la cantidad de datos dados sea mayor a las dimensiones de los mismos datos, esto se tiene pues en caso contrario, es decir, si $N < d+1$ y las columnas de $A$ fueran linealmente independientes entonces existiría una base de tamaño $d+1$ para $\\mathbb{R}^N$ lo cual es un absurdo.\n",
    "\n",
    "En conclusión, relativo a la naturaleza de los datos, el problema de encontrar el mejor ajuste lineal a unos datos mediante mínimos cuadrados tiene solución cuando **la cantidad de datos proporcionados es mayor a la dimensión de los datos ($N>d$)**, afortunadamente en la práctica esto casi siempre es así. "
   ]
  },
  {
   "cell_type": "markdown",
   "id": "2649c74f",
   "metadata": {},
   "source": [
    "### Punto 2\n",
    "    \n",
    "*Use a least squares for non-linear models adjust the bitcoin price and perform a prediction using the model to determine the future daily price a week ahead, compare with the actual values.*    "
   ]
  },
  {
   "cell_type": "markdown",
   "id": "7e89696a",
   "metadata": {},
   "source": [
    "Para este punto consideraremos la base de datos dada con el precio del BitCoin en dólares desde el 7 de febrero hasta el 7 de marzo del 2022, usaremos esta información para construir modelos no lineales que nos permitan predecir el valor del activo para la siguiente semana y lo compararemos con los datos reales y así analizaremos cada uno de los modelos."
   ]
  },
  {
   "cell_type": "markdown",
   "id": "bb4a5d62",
   "metadata": {},
   "source": [
    "Iniciamos creando un cuadro de datos exportado de los datos del BitCoin:"
   ]
  },
  {
   "cell_type": "code",
   "execution_count": 2,
   "id": "9b5f3b9f",
   "metadata": {},
   "outputs": [],
   "source": [
    "using CSV, DataFrames\n",
    "\n",
    "dataBitcoin0 = CSV.read(\"data/Bitcoin.csv\", DataFrame); # Leemos los datos del archivo CSV\n",
    "dataBitcoin = sort!(dataBitcoin0) # Ordenamos los datos\n",
    "dataBitcoin.Price .= replace.(dataBitcoin.Price, \",\" => \"\"); # Limpiamos las , de los precios que denotan los miles\n",
    "dataBitcoin.Price = parse.(Float64, dataBitcoin.Price); # Cambiamos el tipo de datos de la columna Price a Float64"
   ]
  },
  {
   "cell_type": "markdown",
   "id": "c0c218bd",
   "metadata": {},
   "source": [
    "Podemos ver las primeras 5 filas para ver cómo es el cuadro de datos:"
   ]
  },
  {
   "cell_type": "code",
   "execution_count": 7,
   "id": "7fa983dc",
   "metadata": {},
   "outputs": [
    {
     "data": {
      "text/html": [
       "<div class=\"data-frame\"><p>5 rows × 7 columns</p><table class=\"data-frame\"><thead><tr><th></th><th>Date</th><th>Price</th><th>Open</th><th>High</th><th>Low</th><th>Vol.</th><th>Change %</th></tr><tr><th></th><th title=\"String15\">String15</th><th title=\"Float64\">Float64</th><th title=\"String15\">String15</th><th title=\"String15\">String15</th><th title=\"String15\">String15</th><th title=\"String7\">String7</th><th title=\"String7\">String7</th></tr></thead><tbody><tr><th>1</th><td>Feb 07, 2022</td><td>43833.9</td><td>42,385.2</td><td>44,468.3</td><td>41,695.4</td><td>76.60K</td><td>3.40%</td></tr><tr><th>2</th><td>Feb 08, 2022</td><td>44038.2</td><td>43,833.9</td><td>45,399.8</td><td>42,705.0</td><td>92.88K</td><td>0.47%</td></tr><tr><th>3</th><td>Feb 09, 2022</td><td>44388.9</td><td>44,038.2</td><td>44,800.4</td><td>43,163.0</td><td>50.92K</td><td>0.80%</td></tr><tr><th>4</th><td>Feb 10, 2022</td><td>43521.0</td><td>44,388.9</td><td>45,755.2</td><td>43,242.5</td><td>89.69K</td><td>-1.96%</td></tr><tr><th>5</th><td>Feb 11, 2022</td><td>42388.4</td><td>43,519.3</td><td>43,915.1</td><td>42,023.4</td><td>69.95K</td><td>-2.60%</td></tr></tbody></table></div>"
      ],
      "text/latex": [
       "\\begin{tabular}{r|ccccccc}\n",
       "\t& Date & Price & Open & High & Low & Vol. & Change \\%\\\\\n",
       "\t\\hline\n",
       "\t& String15 & Float64 & String15 & String15 & String15 & String7 & String7\\\\\n",
       "\t\\hline\n",
       "\t1 & Feb 07, 2022 & 43833.9 & 42,385.2 & 44,468.3 & 41,695.4 & 76.60K & 3.40\\% \\\\\n",
       "\t2 & Feb 08, 2022 & 44038.2 & 43,833.9 & 45,399.8 & 42,705.0 & 92.88K & 0.47\\% \\\\\n",
       "\t3 & Feb 09, 2022 & 44388.9 & 44,038.2 & 44,800.4 & 43,163.0 & 50.92K & 0.80\\% \\\\\n",
       "\t4 & Feb 10, 2022 & 43521.0 & 44,388.9 & 45,755.2 & 43,242.5 & 89.69K & -1.96\\% \\\\\n",
       "\t5 & Feb 11, 2022 & 42388.4 & 43,519.3 & 43,915.1 & 42,023.4 & 69.95K & -2.60\\% \\\\\n",
       "\\end{tabular}\n"
      ],
      "text/plain": [
       "\u001b[1m5×7 DataFrame\u001b[0m\n",
       "\u001b[1m Row \u001b[0m│\u001b[1m Date         \u001b[0m\u001b[1m Price   \u001b[0m\u001b[1m Open     \u001b[0m\u001b[1m High     \u001b[0m\u001b[1m Low      \u001b[0m\u001b[1m Vol.    \u001b[0m\u001b[1m Change % \u001b[0m\n",
       "\u001b[1m     \u001b[0m│\u001b[90m String15     \u001b[0m\u001b[90m Float64 \u001b[0m\u001b[90m String15 \u001b[0m\u001b[90m String15 \u001b[0m\u001b[90m String15 \u001b[0m\u001b[90m String7 \u001b[0m\u001b[90m String7  \u001b[0m\n",
       "─────┼────────────────────────────────────────────────────────────────────────\n",
       "   1 │ Feb 07, 2022  43833.9  42,385.2  44,468.3  41,695.4  76.60K   3.40%\n",
       "   2 │ Feb 08, 2022  44038.2  43,833.9  45,399.8  42,705.0  92.88K   0.47%\n",
       "   3 │ Feb 09, 2022  44388.9  44,038.2  44,800.4  43,163.0  50.92K   0.80%\n",
       "   4 │ Feb 10, 2022  43521.0  44,388.9  45,755.2  43,242.5  89.69K   -1.96%\n",
       "   5 │ Feb 11, 2022  42388.4  43,519.3  43,915.1  42,023.4  69.95K   -2.60%"
      ]
     },
     "execution_count": 7,
     "metadata": {},
     "output_type": "execute_result"
    }
   ],
   "source": [
    "dataBitcoin[1:5,:]"
   ]
  },
  {
   "cell_type": "markdown",
   "id": "dd2bc6e0",
   "metadata": {},
   "source": [
    "Elaboramos una gráfica del precio del BitCoin dada en el cuadro de datos:"
   ]
  },
  {
   "cell_type": "code",
   "execution_count": 8,
   "id": "dfe72c13",
   "metadata": {},
   "outputs": [
    {
     "data": {
      "image/svg+xml": [
       "<?xml version=\"1.0\" encoding=\"utf-8\"?>\n",
       "<svg xmlns=\"http://www.w3.org/2000/svg\" xmlns:xlink=\"http://www.w3.org/1999/xlink\" width=\"600\" height=\"400\" viewBox=\"0 0 2400 1600\">\n",
       "<defs>\n",
       "  <clipPath id=\"clip130\">\n",
       "    <rect x=\"0\" y=\"0\" width=\"2400\" height=\"1600\"/>\n",
       "  </clipPath>\n",
       "</defs>\n",
       "<path clip-path=\"url(#clip130)\" d=\"\n",
       "M0 1600 L2400 1600 L2400 0 L0 0  Z\n",
       "  \" fill=\"#ffffff\" fill-rule=\"evenodd\" fill-opacity=\"1\"/>\n",
       "<defs>\n",
       "  <clipPath id=\"clip131\">\n",
       "    <rect x=\"480\" y=\"0\" width=\"1681\" height=\"1600\"/>\n",
       "  </clipPath>\n",
       "</defs>\n",
       "<path clip-path=\"url(#clip130)\" d=\"\n",
       "M809.377 1423.18 L2352.76 1423.18 L2352.76 123.472 L809.377 123.472  Z\n",
       "  \" fill=\"#ffffff\" fill-rule=\"evenodd\" fill-opacity=\"1\"/>\n",
       "<defs>\n",
       "  <clipPath id=\"clip132\">\n",
       "    <rect x=\"809\" y=\"123\" width=\"1544\" height=\"1301\"/>\n",
       "  </clipPath>\n",
       "</defs>\n",
       "<polyline clip-path=\"url(#clip132)\" style=\"stroke:#000000; stroke-linecap:butt; stroke-linejoin:round; stroke-width:2; stroke-opacity:0.1; fill:none\" points=\"\n",
       "  1061.06,1423.18 1061.06,123.472 \n",
       "  \"/>\n",
       "<polyline clip-path=\"url(#clip132)\" style=\"stroke:#000000; stroke-linecap:butt; stroke-linejoin:round; stroke-width:2; stroke-opacity:0.1; fill:none\" points=\"\n",
       "  1321.06,1423.18 1321.06,123.472 \n",
       "  \"/>\n",
       "<polyline clip-path=\"url(#clip132)\" style=\"stroke:#000000; stroke-linecap:butt; stroke-linejoin:round; stroke-width:2; stroke-opacity:0.1; fill:none\" points=\"\n",
       "  1581.07,1423.18 1581.07,123.472 \n",
       "  \"/>\n",
       "<polyline clip-path=\"url(#clip132)\" style=\"stroke:#000000; stroke-linecap:butt; stroke-linejoin:round; stroke-width:2; stroke-opacity:0.1; fill:none\" points=\"\n",
       "  1841.07,1423.18 1841.07,123.472 \n",
       "  \"/>\n",
       "<polyline clip-path=\"url(#clip132)\" style=\"stroke:#000000; stroke-linecap:butt; stroke-linejoin:round; stroke-width:2; stroke-opacity:0.1; fill:none\" points=\"\n",
       "  2101.07,1423.18 2101.07,123.472 \n",
       "  \"/>\n",
       "<polyline clip-path=\"url(#clip130)\" style=\"stroke:#000000; stroke-linecap:butt; stroke-linejoin:round; stroke-width:4; stroke-opacity:1; fill:none\" points=\"\n",
       "  809.377,1423.18 2352.76,1423.18 \n",
       "  \"/>\n",
       "<polyline clip-path=\"url(#clip130)\" style=\"stroke:#000000; stroke-linecap:butt; stroke-linejoin:round; stroke-width:4; stroke-opacity:1; fill:none\" points=\"\n",
       "  1061.06,1423.18 1061.06,1404.28 \n",
       "  \"/>\n",
       "<polyline clip-path=\"url(#clip130)\" style=\"stroke:#000000; stroke-linecap:butt; stroke-linejoin:round; stroke-width:4; stroke-opacity:1; fill:none\" points=\"\n",
       "  1321.06,1423.18 1321.06,1404.28 \n",
       "  \"/>\n",
       "<polyline clip-path=\"url(#clip130)\" style=\"stroke:#000000; stroke-linecap:butt; stroke-linejoin:round; stroke-width:4; stroke-opacity:1; fill:none\" points=\"\n",
       "  1581.07,1423.18 1581.07,1404.28 \n",
       "  \"/>\n",
       "<polyline clip-path=\"url(#clip130)\" style=\"stroke:#000000; stroke-linecap:butt; stroke-linejoin:round; stroke-width:4; stroke-opacity:1; fill:none\" points=\"\n",
       "  1841.07,1423.18 1841.07,1404.28 \n",
       "  \"/>\n",
       "<polyline clip-path=\"url(#clip130)\" style=\"stroke:#000000; stroke-linecap:butt; stroke-linejoin:round; stroke-width:4; stroke-opacity:1; fill:none\" points=\"\n",
       "  2101.07,1423.18 2101.07,1404.28 \n",
       "  \"/>\n",
       "<path clip-path=\"url(#clip130)\" d=\"M1051.34 1451.02 L1069.69 1451.02 L1069.69 1454.96 L1055.62 1454.96 L1055.62 1463.43 Q1056.64 1463.08 1057.66 1462.92 Q1058.68 1462.73 1059.69 1462.73 Q1065.48 1462.73 1068.86 1465.9 Q1072.24 1469.08 1072.24 1474.49 Q1072.24 1480.07 1068.77 1483.17 Q1065.3 1486.25 1058.98 1486.25 Q1056.8 1486.25 1054.53 1485.88 Q1052.29 1485.51 1049.88 1484.77 L1049.88 1480.07 Q1051.96 1481.2 1054.18 1481.76 Q1056.41 1482.32 1058.88 1482.32 Q1062.89 1482.32 1065.23 1480.21 Q1067.56 1478.1 1067.56 1474.49 Q1067.56 1470.88 1065.23 1468.77 Q1062.89 1466.67 1058.88 1466.67 Q1057.01 1466.67 1055.13 1467.08 Q1053.28 1467.5 1051.34 1468.38 L1051.34 1451.02 Z\" fill=\"#000000\" fill-rule=\"evenodd\" fill-opacity=\"1\" /><path clip-path=\"url(#clip130)\" d=\"M1295.75 1481.64 L1303.39 1481.64 L1303.39 1455.28 L1295.08 1456.95 L1295.08 1452.69 L1303.34 1451.02 L1308.02 1451.02 L1308.02 1481.64 L1315.66 1481.64 L1315.66 1485.58 L1295.75 1485.58 L1295.75 1481.64 Z\" fill=\"#000000\" fill-rule=\"evenodd\" fill-opacity=\"1\" /><path clip-path=\"url(#clip130)\" d=\"M1335.1 1454.1 Q1331.49 1454.1 1329.66 1457.66 Q1327.86 1461.2 1327.86 1468.33 Q1327.86 1475.44 1329.66 1479.01 Q1331.49 1482.55 1335.1 1482.55 Q1338.74 1482.55 1340.54 1479.01 Q1342.37 1475.44 1342.37 1468.33 Q1342.37 1461.2 1340.54 1457.66 Q1338.74 1454.1 1335.1 1454.1 M1335.1 1450.39 Q1340.91 1450.39 1343.97 1455 Q1347.05 1459.58 1347.05 1468.33 Q1347.05 1477.06 1343.97 1481.67 Q1340.91 1486.25 1335.1 1486.25 Q1329.29 1486.25 1326.21 1481.67 Q1323.16 1477.06 1323.16 1468.33 Q1323.16 1459.58 1326.21 1455 Q1329.29 1450.39 1335.1 1450.39 Z\" fill=\"#000000\" fill-rule=\"evenodd\" fill-opacity=\"1\" /><path clip-path=\"url(#clip130)\" d=\"M1556.25 1481.64 L1563.89 1481.64 L1563.89 1455.28 L1555.58 1456.95 L1555.58 1452.69 L1563.84 1451.02 L1568.52 1451.02 L1568.52 1481.64 L1576.16 1481.64 L1576.16 1485.58 L1556.25 1485.58 L1556.25 1481.64 Z\" fill=\"#000000\" fill-rule=\"evenodd\" fill-opacity=\"1\" /><path clip-path=\"url(#clip130)\" d=\"M1585.65 1451.02 L1604.01 1451.02 L1604.01 1454.96 L1589.93 1454.96 L1589.93 1463.43 Q1590.95 1463.08 1591.97 1462.92 Q1592.99 1462.73 1594.01 1462.73 Q1599.79 1462.73 1603.17 1465.9 Q1606.55 1469.08 1606.55 1474.49 Q1606.55 1480.07 1603.08 1483.17 Q1599.61 1486.25 1593.29 1486.25 Q1591.11 1486.25 1588.84 1485.88 Q1586.6 1485.51 1584.19 1484.77 L1584.19 1480.07 Q1586.27 1481.2 1588.5 1481.76 Q1590.72 1482.32 1593.2 1482.32 Q1597.2 1482.32 1599.54 1480.21 Q1601.88 1478.1 1601.88 1474.49 Q1601.88 1470.88 1599.54 1468.77 Q1597.2 1466.67 1593.2 1466.67 Q1591.32 1466.67 1589.45 1467.08 Q1587.59 1467.5 1585.65 1468.38 L1585.65 1451.02 Z\" fill=\"#000000\" fill-rule=\"evenodd\" fill-opacity=\"1\" /><path clip-path=\"url(#clip130)\" d=\"M1819.84 1481.64 L1836.16 1481.64 L1836.16 1485.58 L1814.22 1485.58 L1814.22 1481.64 Q1816.88 1478.89 1821.46 1474.26 Q1826.07 1469.61 1827.25 1468.27 Q1829.5 1465.74 1830.38 1464.01 Q1831.28 1462.25 1831.28 1460.56 Q1831.28 1457.8 1829.33 1456.07 Q1827.41 1454.33 1824.31 1454.33 Q1822.11 1454.33 1819.66 1455.09 Q1817.23 1455.86 1814.45 1457.41 L1814.45 1452.69 Q1817.27 1451.55 1819.73 1450.97 Q1822.18 1450.39 1824.22 1450.39 Q1829.59 1450.39 1832.78 1453.08 Q1835.98 1455.77 1835.98 1460.26 Q1835.98 1462.39 1835.17 1464.31 Q1834.38 1466.2 1832.27 1468.8 Q1831.69 1469.47 1828.59 1472.69 Q1825.49 1475.88 1819.84 1481.64 Z\" fill=\"#000000\" fill-rule=\"evenodd\" fill-opacity=\"1\" /><path clip-path=\"url(#clip130)\" d=\"M1855.98 1454.1 Q1852.37 1454.1 1850.54 1457.66 Q1848.73 1461.2 1848.73 1468.33 Q1848.73 1475.44 1850.54 1479.01 Q1852.37 1482.55 1855.98 1482.55 Q1859.61 1482.55 1861.42 1479.01 Q1863.25 1475.44 1863.25 1468.33 Q1863.25 1461.2 1861.42 1457.66 Q1859.61 1454.1 1855.98 1454.1 M1855.98 1450.39 Q1861.79 1450.39 1864.84 1455 Q1867.92 1459.58 1867.92 1468.33 Q1867.92 1477.06 1864.84 1481.67 Q1861.79 1486.25 1855.98 1486.25 Q1850.17 1486.25 1847.09 1481.67 Q1844.03 1477.06 1844.03 1468.33 Q1844.03 1459.58 1847.09 1455 Q1850.17 1450.39 1855.98 1450.39 Z\" fill=\"#000000\" fill-rule=\"evenodd\" fill-opacity=\"1\" /><path clip-path=\"url(#clip130)\" d=\"M2080.34 1481.64 L2096.66 1481.64 L2096.66 1485.58 L2074.72 1485.58 L2074.72 1481.64 Q2077.38 1478.89 2081.96 1474.26 Q2086.57 1469.61 2087.75 1468.27 Q2090 1465.74 2090.88 1464.01 Q2091.78 1462.25 2091.78 1460.56 Q2091.78 1457.8 2089.83 1456.07 Q2087.91 1454.33 2084.81 1454.33 Q2082.61 1454.33 2080.16 1455.09 Q2077.73 1455.86 2074.95 1457.41 L2074.95 1452.69 Q2077.77 1451.55 2080.23 1450.97 Q2082.68 1450.39 2084.72 1450.39 Q2090.09 1450.39 2093.28 1453.08 Q2096.48 1455.77 2096.48 1460.26 Q2096.48 1462.39 2095.67 1464.31 Q2094.88 1466.2 2092.77 1468.8 Q2092.2 1469.47 2089.09 1472.69 Q2085.99 1475.88 2080.34 1481.64 Z\" fill=\"#000000\" fill-rule=\"evenodd\" fill-opacity=\"1\" /><path clip-path=\"url(#clip130)\" d=\"M2106.52 1451.02 L2124.88 1451.02 L2124.88 1454.96 L2110.81 1454.96 L2110.81 1463.43 Q2111.83 1463.08 2112.84 1462.92 Q2113.86 1462.73 2114.88 1462.73 Q2120.67 1462.73 2124.05 1465.9 Q2127.43 1469.08 2127.43 1474.49 Q2127.43 1480.07 2123.95 1483.17 Q2120.48 1486.25 2114.16 1486.25 Q2111.99 1486.25 2109.72 1485.88 Q2107.47 1485.51 2105.07 1484.77 L2105.07 1480.07 Q2107.15 1481.2 2109.37 1481.76 Q2111.59 1482.32 2114.07 1482.32 Q2118.08 1482.32 2120.41 1480.21 Q2122.75 1478.1 2122.75 1474.49 Q2122.75 1470.88 2120.41 1468.77 Q2118.08 1466.67 2114.07 1466.67 Q2112.2 1466.67 2110.32 1467.08 Q2108.47 1467.5 2106.52 1468.38 L2106.52 1451.02 Z\" fill=\"#000000\" fill-rule=\"evenodd\" fill-opacity=\"1\" /><path clip-path=\"url(#clip130)\" d=\"M1521.18 1525.81 L1521.18 1562.76 L1528.95 1562.76 Q1538.78 1562.76 1543.33 1558.3 Q1547.92 1553.85 1547.92 1544.24 Q1547.92 1534.69 1543.33 1530.26 Q1538.78 1525.81 1528.95 1525.81 L1521.18 1525.81 M1514.75 1520.52 L1527.96 1520.52 Q1541.77 1520.52 1548.24 1526.28 Q1554.7 1532.01 1554.7 1544.24 Q1554.7 1556.52 1548.2 1562.28 Q1541.71 1568.04 1527.96 1568.04 L1514.75 1568.04 L1514.75 1520.52 Z\" fill=\"#000000\" fill-rule=\"evenodd\" fill-opacity=\"1\" /><path clip-path=\"url(#clip130)\" d=\"M1572.04 1515.91 L1578.38 1515.91 L1568 1527.88 L1563.13 1527.88 L1572.04 1515.91 M1564.69 1532.4 L1570.55 1532.4 L1570.55 1568.04 L1564.69 1568.04 L1564.69 1532.4 M1567.62 1531.54 L1567.62 1531.54 Z\" fill=\"#000000\" fill-rule=\"evenodd\" fill-opacity=\"1\" /><path clip-path=\"url(#clip130)\" d=\"M1599 1550.12 Q1591.9 1550.12 1589.17 1551.75 Q1586.43 1553.37 1586.43 1557.29 Q1586.43 1560.4 1588.47 1562.25 Q1590.54 1564.07 1594.07 1564.07 Q1598.94 1564.07 1601.87 1560.63 Q1604.83 1557.16 1604.83 1551.43 L1604.83 1550.12 L1599 1550.12 M1610.68 1547.71 L1610.68 1568.04 L1604.83 1568.04 L1604.83 1562.63 Q1602.82 1565.88 1599.83 1567.44 Q1596.84 1568.97 1592.51 1568.97 Q1587.03 1568.97 1583.79 1565.91 Q1580.57 1562.82 1580.57 1557.67 Q1580.57 1551.65 1584.58 1548.6 Q1588.63 1545.54 1596.61 1545.54 L1604.83 1545.54 L1604.83 1544.97 Q1604.83 1540.93 1602.15 1538.73 Q1599.51 1536.5 1594.7 1536.5 Q1591.65 1536.5 1588.75 1537.23 Q1585.86 1537.97 1583.18 1539.43 L1583.18 1534.02 Q1586.4 1532.78 1589.42 1532.17 Q1592.45 1531.54 1595.31 1531.54 Q1603.04 1531.54 1606.86 1535.55 Q1610.68 1539.56 1610.68 1547.71 Z\" fill=\"#000000\" fill-rule=\"evenodd\" fill-opacity=\"1\" /><path clip-path=\"url(#clip130)\" d=\"M1645.47 1533.45 L1645.47 1538.98 Q1642.99 1537.71 1640.32 1537.07 Q1637.64 1536.44 1634.78 1536.44 Q1630.42 1536.44 1628.22 1537.77 Q1626.06 1539.11 1626.06 1541.79 Q1626.06 1543.82 1627.62 1545 Q1629.18 1546.15 1633.89 1547.2 L1635.89 1547.64 Q1642.13 1548.98 1644.74 1551.43 Q1647.38 1553.85 1647.38 1558.21 Q1647.38 1563.17 1643.43 1566.07 Q1639.52 1568.97 1632.64 1568.97 Q1629.78 1568.97 1626.66 1568.39 Q1623.57 1567.85 1620.14 1566.74 L1620.14 1560.69 Q1623.38 1562.38 1626.53 1563.24 Q1629.68 1564.07 1632.77 1564.07 Q1636.91 1564.07 1639.14 1562.66 Q1641.37 1561.23 1641.37 1558.65 Q1641.37 1556.27 1639.74 1554.99 Q1638.15 1553.72 1632.71 1552.54 L1630.67 1552.07 Q1625.23 1550.92 1622.81 1548.56 Q1620.39 1546.18 1620.39 1542.04 Q1620.39 1537.01 1623.96 1534.27 Q1627.52 1531.54 1634.08 1531.54 Q1637.32 1531.54 1640.19 1532.01 Q1643.05 1532.49 1645.47 1533.45 Z\" fill=\"#000000\" fill-rule=\"evenodd\" fill-opacity=\"1\" /><polyline clip-path=\"url(#clip132)\" style=\"stroke:#000000; stroke-linecap:butt; stroke-linejoin:round; stroke-width:2; stroke-opacity:0.1; fill:none\" points=\"\n",
       "  809.377,1226.37 2352.76,1226.37 \n",
       "  \"/>\n",
       "<polyline clip-path=\"url(#clip132)\" style=\"stroke:#000000; stroke-linecap:butt; stroke-linejoin:round; stroke-width:2; stroke-opacity:0.1; fill:none\" points=\"\n",
       "  809.377,900.563 2352.76,900.563 \n",
       "  \"/>\n",
       "<polyline clip-path=\"url(#clip132)\" style=\"stroke:#000000; stroke-linecap:butt; stroke-linejoin:round; stroke-width:2; stroke-opacity:0.1; fill:none\" points=\"\n",
       "  809.377,574.753 2352.76,574.753 \n",
       "  \"/>\n",
       "<polyline clip-path=\"url(#clip132)\" style=\"stroke:#000000; stroke-linecap:butt; stroke-linejoin:round; stroke-width:2; stroke-opacity:0.1; fill:none\" points=\"\n",
       "  809.377,248.942 2352.76,248.942 \n",
       "  \"/>\n",
       "<polyline clip-path=\"url(#clip130)\" style=\"stroke:#000000; stroke-linecap:butt; stroke-linejoin:round; stroke-width:4; stroke-opacity:1; fill:none\" points=\"\n",
       "  809.377,1423.18 809.377,123.472 \n",
       "  \"/>\n",
       "<polyline clip-path=\"url(#clip130)\" style=\"stroke:#000000; stroke-linecap:butt; stroke-linejoin:round; stroke-width:4; stroke-opacity:1; fill:none\" points=\"\n",
       "  809.377,1226.37 823.555,1226.37 \n",
       "  \"/>\n",
       "<polyline clip-path=\"url(#clip130)\" style=\"stroke:#000000; stroke-linecap:butt; stroke-linejoin:round; stroke-width:4; stroke-opacity:1; fill:none\" points=\"\n",
       "  809.377,900.563 823.555,900.563 \n",
       "  \"/>\n",
       "<polyline clip-path=\"url(#clip130)\" style=\"stroke:#000000; stroke-linecap:butt; stroke-linejoin:round; stroke-width:4; stroke-opacity:1; fill:none\" points=\"\n",
       "  809.377,574.753 823.555,574.753 \n",
       "  \"/>\n",
       "<polyline clip-path=\"url(#clip130)\" style=\"stroke:#000000; stroke-linecap:butt; stroke-linejoin:round; stroke-width:4; stroke-opacity:1; fill:none\" points=\"\n",
       "  809.377,248.942 823.555,248.942 \n",
       "  \"/>\n",
       "<path clip-path=\"url(#clip130)\" d=\"M644.952 1225.02 Q648.308 1225.74 650.183 1228.01 Q652.081 1230.27 652.081 1233.61 Q652.081 1238.72 648.563 1241.52 Q645.044 1244.33 638.563 1244.33 Q636.387 1244.33 634.072 1243.89 Q631.78 1243.47 629.327 1242.61 L629.327 1238.1 Q631.271 1239.23 633.586 1239.81 Q635.901 1240.39 638.424 1240.39 Q642.822 1240.39 645.114 1238.65 Q647.428 1236.92 647.428 1233.61 Q647.428 1230.55 645.276 1228.84 Q643.146 1227.1 639.327 1227.1 L635.299 1227.1 L635.299 1223.26 L639.512 1223.26 Q642.961 1223.26 644.79 1221.89 Q646.618 1220.51 646.618 1217.91 Q646.618 1215.25 644.72 1213.84 Q642.845 1212.4 639.327 1212.4 Q637.405 1212.4 635.206 1212.82 Q633.007 1213.24 630.368 1214.12 L630.368 1209.95 Q633.03 1209.21 635.345 1208.84 Q637.683 1208.47 639.743 1208.47 Q645.067 1208.47 648.169 1210.9 Q651.271 1213.31 651.271 1217.43 Q651.271 1220.3 649.627 1222.29 Q647.984 1224.26 644.952 1225.02 Z\" fill=\"#000000\" fill-rule=\"evenodd\" fill-opacity=\"1\" /><path clip-path=\"url(#clip130)\" d=\"M670.947 1227.24 Q667.614 1227.24 665.692 1229.02 Q663.794 1230.81 663.794 1233.93 Q663.794 1237.06 665.692 1238.84 Q667.614 1240.62 670.947 1240.62 Q674.28 1240.62 676.201 1238.84 Q678.123 1237.03 678.123 1233.93 Q678.123 1230.81 676.201 1229.02 Q674.303 1227.24 670.947 1227.24 M666.271 1225.25 Q663.262 1224.51 661.572 1222.45 Q659.905 1220.39 659.905 1217.43 Q659.905 1213.28 662.845 1210.88 Q665.808 1208.47 670.947 1208.47 Q676.109 1208.47 679.049 1210.88 Q681.988 1213.28 681.988 1217.43 Q681.988 1220.39 680.299 1222.45 Q678.632 1224.51 675.646 1225.25 Q679.025 1226.04 680.9 1228.33 Q682.799 1230.62 682.799 1233.93 Q682.799 1238.95 679.72 1241.64 Q676.664 1244.33 670.947 1244.33 Q665.229 1244.33 662.151 1241.64 Q659.095 1238.95 659.095 1233.93 Q659.095 1230.62 660.993 1228.33 Q662.891 1226.04 666.271 1225.25 M664.558 1217.87 Q664.558 1220.55 666.225 1222.06 Q667.914 1223.56 670.947 1223.56 Q673.956 1223.56 675.646 1222.06 Q677.359 1220.55 677.359 1217.87 Q677.359 1215.18 675.646 1213.68 Q673.956 1212.17 670.947 1212.17 Q667.914 1212.17 666.225 1213.68 Q664.558 1215.18 664.558 1217.87 Z\" fill=\"#000000\" fill-rule=\"evenodd\" fill-opacity=\"1\" /><path clip-path=\"url(#clip130)\" d=\"M701.109 1212.17 Q697.498 1212.17 695.669 1215.74 Q693.863 1219.28 693.863 1226.41 Q693.863 1233.51 695.669 1237.08 Q697.498 1240.62 701.109 1240.62 Q704.743 1240.62 706.548 1237.08 Q708.377 1233.51 708.377 1226.41 Q708.377 1219.28 706.548 1215.74 Q704.743 1212.17 701.109 1212.17 M701.109 1208.47 Q706.919 1208.47 709.974 1213.08 Q713.053 1217.66 713.053 1226.41 Q713.053 1235.14 709.974 1239.74 Q706.919 1244.33 701.109 1244.33 Q695.299 1244.33 692.22 1239.74 Q689.164 1235.14 689.164 1226.41 Q689.164 1217.66 692.22 1213.08 Q695.299 1208.47 701.109 1208.47 Z\" fill=\"#000000\" fill-rule=\"evenodd\" fill-opacity=\"1\" /><path clip-path=\"url(#clip130)\" d=\"M731.271 1212.17 Q727.659 1212.17 725.831 1215.74 Q724.025 1219.28 724.025 1226.41 Q724.025 1233.51 725.831 1237.08 Q727.659 1240.62 731.271 1240.62 Q734.905 1240.62 736.71 1237.08 Q738.539 1233.51 738.539 1226.41 Q738.539 1219.28 736.71 1215.74 Q734.905 1212.17 731.271 1212.17 M731.271 1208.47 Q737.081 1208.47 740.136 1213.08 Q743.215 1217.66 743.215 1226.41 Q743.215 1235.14 740.136 1239.74 Q737.081 1244.33 731.271 1244.33 Q725.46 1244.33 722.382 1239.74 Q719.326 1235.14 719.326 1226.41 Q719.326 1217.66 722.382 1213.08 Q725.46 1208.47 731.271 1208.47 Z\" fill=\"#000000\" fill-rule=\"evenodd\" fill-opacity=\"1\" /><path clip-path=\"url(#clip130)\" d=\"M761.432 1212.17 Q757.821 1212.17 755.993 1215.74 Q754.187 1219.28 754.187 1226.41 Q754.187 1233.51 755.993 1237.08 Q757.821 1240.62 761.432 1240.62 Q765.067 1240.62 766.872 1237.08 Q768.701 1233.51 768.701 1226.41 Q768.701 1219.28 766.872 1215.74 Q765.067 1212.17 761.432 1212.17 M761.432 1208.47 Q767.243 1208.47 770.298 1213.08 Q773.377 1217.66 773.377 1226.41 Q773.377 1235.14 770.298 1239.74 Q767.243 1244.33 761.432 1244.33 Q755.622 1244.33 752.544 1239.74 Q749.488 1235.14 749.488 1226.41 Q749.488 1217.66 752.544 1213.08 Q755.622 1208.47 761.432 1208.47 Z\" fill=\"#000000\" fill-rule=\"evenodd\" fill-opacity=\"1\" /><path clip-path=\"url(#clip130)\" d=\"M643.632 887.357 L631.827 905.806 L643.632 905.806 L643.632 887.357 M642.405 883.283 L648.285 883.283 L648.285 905.806 L653.215 905.806 L653.215 909.695 L648.285 909.695 L648.285 917.843 L643.632 917.843 L643.632 909.695 L628.03 909.695 L628.03 905.181 L642.405 883.283 Z\" fill=\"#000000\" fill-rule=\"evenodd\" fill-opacity=\"1\" /><path clip-path=\"url(#clip130)\" d=\"M670.947 886.362 Q667.336 886.362 665.507 889.927 Q663.701 893.468 663.701 900.598 Q663.701 907.704 665.507 911.269 Q667.336 914.811 670.947 914.811 Q674.581 914.811 676.387 911.269 Q678.215 907.704 678.215 900.598 Q678.215 893.468 676.387 889.927 Q674.581 886.362 670.947 886.362 M670.947 882.658 Q676.757 882.658 679.813 887.265 Q682.891 891.848 682.891 900.598 Q682.891 909.325 679.813 913.931 Q676.757 918.514 670.947 918.514 Q665.137 918.514 662.058 913.931 Q659.002 909.325 659.002 900.598 Q659.002 891.848 662.058 887.265 Q665.137 882.658 670.947 882.658 Z\" fill=\"#000000\" fill-rule=\"evenodd\" fill-opacity=\"1\" /><path clip-path=\"url(#clip130)\" d=\"M701.109 886.362 Q697.498 886.362 695.669 889.927 Q693.863 893.468 693.863 900.598 Q693.863 907.704 695.669 911.269 Q697.498 914.811 701.109 914.811 Q704.743 914.811 706.548 911.269 Q708.377 907.704 708.377 900.598 Q708.377 893.468 706.548 889.927 Q704.743 886.362 701.109 886.362 M701.109 882.658 Q706.919 882.658 709.974 887.265 Q713.053 891.848 713.053 900.598 Q713.053 909.325 709.974 913.931 Q706.919 918.514 701.109 918.514 Q695.299 918.514 692.22 913.931 Q689.164 909.325 689.164 900.598 Q689.164 891.848 692.22 887.265 Q695.299 882.658 701.109 882.658 Z\" fill=\"#000000\" fill-rule=\"evenodd\" fill-opacity=\"1\" /><path clip-path=\"url(#clip130)\" d=\"M731.271 886.362 Q727.659 886.362 725.831 889.927 Q724.025 893.468 724.025 900.598 Q724.025 907.704 725.831 911.269 Q727.659 914.811 731.271 914.811 Q734.905 914.811 736.71 911.269 Q738.539 907.704 738.539 900.598 Q738.539 893.468 736.71 889.927 Q734.905 886.362 731.271 886.362 M731.271 882.658 Q737.081 882.658 740.136 887.265 Q743.215 891.848 743.215 900.598 Q743.215 909.325 740.136 913.931 Q737.081 918.514 731.271 918.514 Q725.46 918.514 722.382 913.931 Q719.326 909.325 719.326 900.598 Q719.326 891.848 722.382 887.265 Q725.46 882.658 731.271 882.658 Z\" fill=\"#000000\" fill-rule=\"evenodd\" fill-opacity=\"1\" /><path clip-path=\"url(#clip130)\" d=\"M761.432 886.362 Q757.821 886.362 755.993 889.927 Q754.187 893.468 754.187 900.598 Q754.187 907.704 755.993 911.269 Q757.821 914.811 761.432 914.811 Q765.067 914.811 766.872 911.269 Q768.701 907.704 768.701 900.598 Q768.701 893.468 766.872 889.927 Q765.067 886.362 761.432 886.362 M761.432 882.658 Q767.243 882.658 770.298 887.265 Q773.377 891.848 773.377 900.598 Q773.377 909.325 770.298 913.931 Q767.243 918.514 761.432 918.514 Q755.622 918.514 752.544 913.931 Q749.488 909.325 749.488 900.598 Q749.488 891.848 752.544 887.265 Q755.622 882.658 761.432 882.658 Z\" fill=\"#000000\" fill-rule=\"evenodd\" fill-opacity=\"1\" /><path clip-path=\"url(#clip130)\" d=\"M643.632 561.547 L631.827 579.996 L643.632 579.996 L643.632 561.547 M642.405 557.473 L648.285 557.473 L648.285 579.996 L653.215 579.996 L653.215 583.884 L648.285 583.884 L648.285 592.033 L643.632 592.033 L643.632 583.884 L628.03 583.884 L628.03 579.371 L642.405 557.473 Z\" fill=\"#000000\" fill-rule=\"evenodd\" fill-opacity=\"1\" /><path clip-path=\"url(#clip130)\" d=\"M664.975 588.097 L681.294 588.097 L681.294 592.033 L659.35 592.033 L659.35 588.097 Q662.012 585.343 666.595 580.713 Q671.201 576.06 672.382 574.718 Q674.627 572.195 675.507 570.459 Q676.41 568.699 676.41 567.01 Q676.41 564.255 674.465 562.519 Q672.544 560.783 669.442 560.783 Q667.243 560.783 664.789 561.547 Q662.359 562.311 659.581 563.861 L659.581 559.139 Q662.405 558.005 664.859 557.426 Q667.313 556.848 669.35 556.848 Q674.72 556.848 677.914 559.533 Q681.109 562.218 681.109 566.709 Q681.109 568.838 680.299 570.76 Q679.512 572.658 677.405 575.25 Q676.826 575.922 673.725 579.139 Q670.623 582.334 664.975 588.097 Z\" fill=\"#000000\" fill-rule=\"evenodd\" fill-opacity=\"1\" /><path clip-path=\"url(#clip130)\" d=\"M701.109 560.551 Q697.498 560.551 695.669 564.116 Q693.863 567.658 693.863 574.787 Q693.863 581.894 695.669 585.459 Q697.498 589 701.109 589 Q704.743 589 706.548 585.459 Q708.377 581.894 708.377 574.787 Q708.377 567.658 706.548 564.116 Q704.743 560.551 701.109 560.551 M701.109 556.848 Q706.919 556.848 709.974 561.454 Q713.053 566.037 713.053 574.787 Q713.053 583.514 709.974 588.121 Q706.919 592.704 701.109 592.704 Q695.299 592.704 692.22 588.121 Q689.164 583.514 689.164 574.787 Q689.164 566.037 692.22 561.454 Q695.299 556.848 701.109 556.848 Z\" fill=\"#000000\" fill-rule=\"evenodd\" fill-opacity=\"1\" /><path clip-path=\"url(#clip130)\" d=\"M731.271 560.551 Q727.659 560.551 725.831 564.116 Q724.025 567.658 724.025 574.787 Q724.025 581.894 725.831 585.459 Q727.659 589 731.271 589 Q734.905 589 736.71 585.459 Q738.539 581.894 738.539 574.787 Q738.539 567.658 736.71 564.116 Q734.905 560.551 731.271 560.551 M731.271 556.848 Q737.081 556.848 740.136 561.454 Q743.215 566.037 743.215 574.787 Q743.215 583.514 740.136 588.121 Q737.081 592.704 731.271 592.704 Q725.46 592.704 722.382 588.121 Q719.326 583.514 719.326 574.787 Q719.326 566.037 722.382 561.454 Q725.46 556.848 731.271 556.848 Z\" fill=\"#000000\" fill-rule=\"evenodd\" fill-opacity=\"1\" /><path clip-path=\"url(#clip130)\" d=\"M761.432 560.551 Q757.821 560.551 755.993 564.116 Q754.187 567.658 754.187 574.787 Q754.187 581.894 755.993 585.459 Q757.821 589 761.432 589 Q765.067 589 766.872 585.459 Q768.701 581.894 768.701 574.787 Q768.701 567.658 766.872 564.116 Q765.067 560.551 761.432 560.551 M761.432 556.848 Q767.243 556.848 770.298 561.454 Q773.377 566.037 773.377 574.787 Q773.377 583.514 770.298 588.121 Q767.243 592.704 761.432 592.704 Q755.622 592.704 752.544 588.121 Q749.488 583.514 749.488 574.787 Q749.488 566.037 752.544 561.454 Q755.622 556.848 761.432 556.848 Z\" fill=\"#000000\" fill-rule=\"evenodd\" fill-opacity=\"1\" /><path clip-path=\"url(#clip130)\" d=\"M643.632 235.736 L631.827 254.185 L643.632 254.185 L643.632 235.736 M642.405 231.662 L648.285 231.662 L648.285 254.185 L653.215 254.185 L653.215 258.074 L648.285 258.074 L648.285 266.222 L643.632 266.222 L643.632 258.074 L628.03 258.074 L628.03 253.56 L642.405 231.662 Z\" fill=\"#000000\" fill-rule=\"evenodd\" fill-opacity=\"1\" /><path clip-path=\"url(#clip130)\" d=\"M673.794 235.736 L661.989 254.185 L673.794 254.185 L673.794 235.736 M672.567 231.662 L678.447 231.662 L678.447 254.185 L683.377 254.185 L683.377 258.074 L678.447 258.074 L678.447 266.222 L673.794 266.222 L673.794 258.074 L658.192 258.074 L658.192 253.56 L672.567 231.662 Z\" fill=\"#000000\" fill-rule=\"evenodd\" fill-opacity=\"1\" /><path clip-path=\"url(#clip130)\" d=\"M701.109 234.741 Q697.498 234.741 695.669 238.305 Q693.863 241.847 693.863 248.977 Q693.863 256.083 695.669 259.648 Q697.498 263.19 701.109 263.19 Q704.743 263.19 706.548 259.648 Q708.377 256.083 708.377 248.977 Q708.377 241.847 706.548 238.305 Q704.743 234.741 701.109 234.741 M701.109 231.037 Q706.919 231.037 709.974 235.643 Q713.053 240.227 713.053 248.977 Q713.053 257.703 709.974 262.31 Q706.919 266.893 701.109 266.893 Q695.299 266.893 692.22 262.31 Q689.164 257.703 689.164 248.977 Q689.164 240.227 692.22 235.643 Q695.299 231.037 701.109 231.037 Z\" fill=\"#000000\" fill-rule=\"evenodd\" fill-opacity=\"1\" /><path clip-path=\"url(#clip130)\" d=\"M731.271 234.741 Q727.659 234.741 725.831 238.305 Q724.025 241.847 724.025 248.977 Q724.025 256.083 725.831 259.648 Q727.659 263.19 731.271 263.19 Q734.905 263.19 736.71 259.648 Q738.539 256.083 738.539 248.977 Q738.539 241.847 736.71 238.305 Q734.905 234.741 731.271 234.741 M731.271 231.037 Q737.081 231.037 740.136 235.643 Q743.215 240.227 743.215 248.977 Q743.215 257.703 740.136 262.31 Q737.081 266.893 731.271 266.893 Q725.46 266.893 722.382 262.31 Q719.326 257.703 719.326 248.977 Q719.326 240.227 722.382 235.643 Q725.46 231.037 731.271 231.037 Z\" fill=\"#000000\" fill-rule=\"evenodd\" fill-opacity=\"1\" /><path clip-path=\"url(#clip130)\" d=\"M761.432 234.741 Q757.821 234.741 755.993 238.305 Q754.187 241.847 754.187 248.977 Q754.187 256.083 755.993 259.648 Q757.821 263.19 761.432 263.19 Q765.067 263.19 766.872 259.648 Q768.701 256.083 768.701 248.977 Q768.701 241.847 766.872 238.305 Q765.067 234.741 761.432 234.741 M761.432 231.037 Q767.243 231.037 770.298 235.643 Q773.377 240.227 773.377 248.977 Q773.377 257.703 770.298 262.31 Q767.243 266.893 761.432 266.893 Q755.622 266.893 752.544 262.31 Q749.488 257.703 749.488 248.977 Q749.488 240.227 752.544 235.643 Q755.622 231.037 761.432 231.037 Z\" fill=\"#000000\" fill-rule=\"evenodd\" fill-opacity=\"1\" /><path clip-path=\"url(#clip130)\" d=\"M530.254 838.208 L530.254 831.747 L559.123 831.747 Q566.762 831.747 570.136 828.978 Q573.478 826.209 573.478 820.003 Q573.478 813.828 570.136 811.059 Q566.762 808.29 559.123 808.29 L530.254 808.29 L530.254 801.828 L559.919 801.828 Q569.213 801.828 573.955 806.444 Q578.697 811.027 578.697 820.003 Q578.697 829.01 573.955 833.625 Q569.213 838.208 559.919 838.208 L530.254 838.208 Z\" fill=\"#000000\" fill-rule=\"evenodd\" fill-opacity=\"1\" /><path clip-path=\"url(#clip130)\" d=\"M531.814 761.279 L538.084 761.279 Q536.334 764.939 535.474 768.186 Q534.615 771.432 534.615 774.456 Q534.615 779.708 536.652 782.572 Q538.689 785.405 542.445 785.405 Q545.596 785.405 547.219 783.527 Q548.81 781.617 549.797 776.334 L550.593 772.451 Q551.961 765.257 555.431 761.852 Q558.868 758.414 564.661 758.414 Q571.568 758.414 575.133 763.061 Q578.697 767.676 578.697 776.62 Q578.697 779.994 577.934 783.813 Q577.17 787.601 575.674 791.675 L569.053 791.675 Q571.25 787.76 572.364 784.004 Q573.478 780.249 573.478 776.62 Q573.478 771.114 571.313 768.122 Q569.149 765.13 565.138 765.13 Q561.637 765.13 559.664 767.294 Q557.691 769.427 556.704 774.329 L555.94 778.243 Q554.508 785.437 551.452 788.651 Q548.397 791.866 542.954 791.866 Q536.652 791.866 533.023 787.442 Q529.395 782.986 529.395 775.188 Q529.395 771.846 530 768.377 Q530.605 764.907 531.814 761.279 Z\" fill=\"#000000\" fill-rule=\"evenodd\" fill-opacity=\"1\" /><path clip-path=\"url(#clip130)\" d=\"M535.538 741.959 L572.491 741.959 L572.491 734.193 Q572.491 724.358 568.035 719.806 Q563.579 715.223 553.967 715.223 Q544.418 715.223 539.994 719.806 Q535.538 724.358 535.538 734.193 L535.538 741.959 M530.254 748.388 L530.254 735.179 Q530.254 721.366 536.015 714.905 Q541.744 708.444 553.967 708.444 Q566.252 708.444 572.013 714.937 Q577.774 721.43 577.774 735.179 L577.774 748.388 L530.254 748.388 Z\" fill=\"#000000\" fill-rule=\"evenodd\" fill-opacity=\"1\" /><path clip-path=\"url(#clip130)\" d=\"M1233.03 18.8205 L1233.03 41.5461 L1243.32 41.5461 Q1249.03 41.5461 1252.15 38.5889 Q1255.27 35.6318 1255.27 30.163 Q1255.27 24.7348 1252.15 21.7777 Q1249.03 18.8205 1243.32 18.8205 L1233.03 18.8205 M1224.85 12.096 L1243.32 12.096 Q1253.49 12.096 1258.68 16.714 Q1263.9 21.2916 1263.9 30.163 Q1263.9 39.1155 1258.68 43.6931 Q1253.49 48.2706 1243.32 48.2706 L1233.03 48.2706 L1233.03 72.576 L1224.85 72.576 L1224.85 12.096 Z\" fill=\"#000000\" fill-rule=\"evenodd\" fill-opacity=\"1\" /><path clip-path=\"url(#clip130)\" d=\"M1299.39 34.1734 Q1298.13 33.4443 1296.63 33.1202 Q1295.17 32.7556 1293.39 32.7556 Q1287.07 32.7556 1283.67 36.8875 Q1280.31 40.9789 1280.31 48.6757 L1280.31 72.576 L1272.81 72.576 L1272.81 27.2059 L1280.31 27.2059 L1280.31 34.2544 Q1282.66 30.1225 1286.42 28.1376 Q1290.19 26.1121 1295.58 26.1121 Q1296.35 26.1121 1297.28 26.2337 Q1298.21 26.3147 1299.35 26.5172 L1299.39 34.1734 Z\" fill=\"#000000\" fill-rule=\"evenodd\" fill-opacity=\"1\" /><path clip-path=\"url(#clip130)\" d=\"M1344.19 48.0275 L1344.19 51.6733 L1309.92 51.6733 Q1310.41 59.3701 1314.54 63.421 Q1318.71 67.4314 1326.12 67.4314 Q1330.42 67.4314 1334.43 66.3781 Q1338.48 65.3249 1342.45 63.2184 L1342.45 70.267 Q1338.44 71.9684 1334.22 72.8596 Q1330.01 73.7508 1325.68 73.7508 Q1314.82 73.7508 1308.46 67.4314 Q1302.14 61.1119 1302.14 50.3365 Q1302.14 39.1965 1308.14 32.6746 Q1314.17 26.1121 1324.38 26.1121 Q1333.54 26.1121 1338.84 32.0264 Q1344.19 37.9003 1344.19 48.0275 M1336.74 45.84 Q1336.66 39.7232 1333.29 36.0774 Q1329.97 32.4315 1324.46 32.4315 Q1318.22 32.4315 1314.46 35.9558 Q1310.73 39.4801 1310.16 45.8805 L1336.74 45.84 Z\" fill=\"#000000\" fill-rule=\"evenodd\" fill-opacity=\"1\" /><path clip-path=\"url(#clip130)\" d=\"M1389.07 28.9478 L1389.07 35.9153 Q1385.91 34.1734 1382.71 33.3227 Q1379.55 32.4315 1376.31 32.4315 Q1369.06 32.4315 1365.05 37.0496 Q1361.04 41.6271 1361.04 49.9314 Q1361.04 58.2358 1365.05 62.8538 Q1369.06 67.4314 1376.31 67.4314 Q1379.55 67.4314 1382.71 66.5807 Q1385.91 65.6895 1389.07 63.9476 L1389.07 70.8341 Q1385.95 72.2924 1382.59 73.0216 Q1379.27 73.7508 1375.5 73.7508 Q1365.25 73.7508 1359.22 67.3098 Q1353.18 60.8689 1353.18 49.9314 Q1353.18 38.832 1359.26 32.472 Q1365.38 26.1121 1375.99 26.1121 Q1379.43 26.1121 1382.71 26.8413 Q1386 27.5299 1389.07 28.9478 Z\" fill=\"#000000\" fill-rule=\"evenodd\" fill-opacity=\"1\" /><path clip-path=\"url(#clip130)\" d=\"M1402.04 27.2059 L1409.49 27.2059 L1409.49 72.576 L1402.04 72.576 L1402.04 27.2059 M1402.04 9.54393 L1409.49 9.54393 L1409.49 18.9825 L1402.04 18.9825 L1402.04 9.54393 Z\" fill=\"#000000\" fill-rule=\"evenodd\" fill-opacity=\"1\" /><path clip-path=\"url(#clip130)\" d=\"M1442.67 32.4315 Q1436.67 32.4315 1433.19 37.1306 Q1429.7 41.7891 1429.7 49.9314 Q1429.7 58.0738 1433.15 62.7728 Q1436.63 67.4314 1442.67 67.4314 Q1448.62 67.4314 1452.11 62.7323 Q1455.59 58.0333 1455.59 49.9314 Q1455.59 41.8701 1452.11 37.1711 Q1448.62 32.4315 1442.67 32.4315 M1442.67 26.1121 Q1452.39 26.1121 1457.94 32.4315 Q1463.49 38.7509 1463.49 49.9314 Q1463.49 61.0714 1457.94 67.4314 Q1452.39 73.7508 1442.67 73.7508 Q1432.9 73.7508 1427.35 67.4314 Q1421.85 61.0714 1421.85 49.9314 Q1421.85 38.7509 1427.35 32.4315 Q1432.9 26.1121 1442.67 26.1121 Z\" fill=\"#000000\" fill-rule=\"evenodd\" fill-opacity=\"1\" /><path clip-path=\"url(#clip130)\" d=\"M1532.07 34.0924 L1532.07 9.54393 L1539.52 9.54393 L1539.52 72.576 L1532.07 72.576 L1532.07 65.7705 Q1529.72 69.8214 1526.12 71.8063 Q1522.55 73.7508 1517.53 73.7508 Q1509.3 73.7508 1504.12 67.1883 Q1498.97 60.6258 1498.97 49.9314 Q1498.97 39.2371 1504.12 32.6746 Q1509.3 26.1121 1517.53 26.1121 Q1522.55 26.1121 1526.12 28.0971 Q1529.72 30.0415 1532.07 34.0924 M1506.67 49.9314 Q1506.67 58.1548 1510.03 62.8538 Q1513.44 67.5124 1519.35 67.5124 Q1525.27 67.5124 1528.67 62.8538 Q1532.07 58.1548 1532.07 49.9314 Q1532.07 41.7081 1528.67 37.0496 Q1525.27 32.3505 1519.35 32.3505 Q1513.44 32.3505 1510.03 37.0496 Q1506.67 41.7081 1506.67 49.9314 Z\" fill=\"#000000\" fill-rule=\"evenodd\" fill-opacity=\"1\" /><path clip-path=\"url(#clip130)\" d=\"M1593.68 48.0275 L1593.68 51.6733 L1559.41 51.6733 Q1559.9 59.3701 1564.03 63.421 Q1568.2 67.4314 1575.62 67.4314 Q1579.91 67.4314 1583.92 66.3781 Q1587.97 65.3249 1591.94 63.2184 L1591.94 70.267 Q1587.93 71.9684 1583.72 72.8596 Q1579.51 73.7508 1575.17 73.7508 Q1564.32 73.7508 1557.96 67.4314 Q1551.64 61.1119 1551.64 50.3365 Q1551.64 39.1965 1557.63 32.6746 Q1563.67 26.1121 1573.88 26.1121 Q1583.03 26.1121 1588.34 32.0264 Q1593.68 37.9003 1593.68 48.0275 M1586.23 45.84 Q1586.15 39.7232 1582.79 36.0774 Q1579.47 32.4315 1573.96 32.4315 Q1567.72 32.4315 1563.95 35.9558 Q1560.22 39.4801 1559.66 45.8805 L1586.23 45.84 Z\" fill=\"#000000\" fill-rule=\"evenodd\" fill-opacity=\"1\" /><path clip-path=\"url(#clip130)\" d=\"M1605.92 9.54393 L1613.37 9.54393 L1613.37 72.576 L1605.92 72.576 L1605.92 9.54393 Z\" fill=\"#000000\" fill-rule=\"evenodd\" fill-opacity=\"1\" /><path clip-path=\"url(#clip130)\" d=\"M1663.85 43.6931 L1663.85 65.8515 L1676.97 65.8515 Q1683.57 65.8515 1686.73 63.1374 Q1689.93 60.3828 1689.93 54.752 Q1689.93 49.0808 1686.73 46.4072 Q1683.57 43.6931 1676.97 43.6931 L1663.85 43.6931 M1663.85 18.8205 L1663.85 37.0496 L1675.96 37.0496 Q1681.95 37.0496 1684.87 34.8216 Q1687.83 32.5531 1687.83 27.935 Q1687.83 23.3575 1684.87 21.089 Q1681.95 18.8205 1675.96 18.8205 L1663.85 18.8205 M1655.66 12.096 L1676.57 12.096 Q1685.92 12.096 1690.99 15.9849 Q1696.05 19.8737 1696.05 27.0438 Q1696.05 32.5936 1693.46 35.8748 Q1690.87 39.156 1685.84 39.9662 Q1691.88 41.2625 1695.2 45.3944 Q1698.56 49.4858 1698.56 55.6432 Q1698.56 63.745 1693.05 68.1605 Q1687.54 72.576 1677.38 72.576 L1655.66 72.576 L1655.66 12.096 Z\" fill=\"#000000\" fill-rule=\"evenodd\" fill-opacity=\"1\" /><path clip-path=\"url(#clip130)\" d=\"M1712.25 27.2059 L1719.71 27.2059 L1719.71 72.576 L1712.25 72.576 L1712.25 27.2059 M1712.25 9.54393 L1719.71 9.54393 L1719.71 18.9825 L1712.25 18.9825 L1712.25 9.54393 Z\" fill=\"#000000\" fill-rule=\"evenodd\" fill-opacity=\"1\" /><path clip-path=\"url(#clip130)\" d=\"M1742.68 14.324 L1742.68 27.2059 L1758.03 27.2059 L1758.03 32.9987 L1742.68 32.9987 L1742.68 57.6282 Q1742.68 63.1779 1744.18 64.7578 Q1745.72 66.3376 1750.37 66.3376 L1758.03 66.3376 L1758.03 72.576 L1750.37 72.576 Q1741.75 72.576 1738.46 69.3758 Q1735.18 66.1351 1735.18 57.6282 L1735.18 32.9987 L1729.71 32.9987 L1729.71 27.2059 L1735.18 27.2059 L1735.18 14.324 L1742.68 14.324 Z\" fill=\"#000000\" fill-rule=\"evenodd\" fill-opacity=\"1\" /><path clip-path=\"url(#clip130)\" d=\"M1813.45 16.7545 L1813.45 25.383 Q1809.31 21.5346 1804.62 19.6307 Q1799.96 17.7268 1794.69 17.7268 Q1784.32 17.7268 1778.81 24.0867 Q1773.3 30.4061 1773.3 42.3968 Q1773.3 54.3469 1778.81 60.7069 Q1784.32 67.0263 1794.69 67.0263 Q1799.96 67.0263 1804.62 65.1223 Q1809.31 63.2184 1813.45 59.3701 L1813.45 67.9175 Q1809.15 70.8341 1804.33 72.2924 Q1799.55 73.7508 1794.2 73.7508 Q1780.47 73.7508 1772.57 65.3654 Q1764.67 56.9395 1764.67 42.3968 Q1764.67 27.8135 1772.57 19.4281 Q1780.47 11.0023 1794.2 11.0023 Q1799.63 11.0023 1804.41 12.4606 Q1809.23 13.8784 1813.45 16.7545 Z\" fill=\"#000000\" fill-rule=\"evenodd\" fill-opacity=\"1\" /><path clip-path=\"url(#clip130)\" d=\"M1843.34 32.4315 Q1837.35 32.4315 1833.86 37.1306 Q1830.38 41.7891 1830.38 49.9314 Q1830.38 58.0738 1833.82 62.7728 Q1837.31 67.4314 1843.34 67.4314 Q1849.3 67.4314 1852.78 62.7323 Q1856.26 58.0333 1856.26 49.9314 Q1856.26 41.8701 1852.78 37.1711 Q1849.3 32.4315 1843.34 32.4315 M1843.34 26.1121 Q1853.06 26.1121 1858.61 32.4315 Q1864.16 38.7509 1864.16 49.9314 Q1864.16 61.0714 1858.61 67.4314 Q1853.06 73.7508 1843.34 73.7508 Q1833.58 73.7508 1828.03 67.4314 Q1822.52 61.0714 1822.52 49.9314 Q1822.52 38.7509 1828.03 32.4315 Q1833.58 26.1121 1843.34 26.1121 Z\" fill=\"#000000\" fill-rule=\"evenodd\" fill-opacity=\"1\" /><path clip-path=\"url(#clip130)\" d=\"M1876.52 27.2059 L1883.97 27.2059 L1883.97 72.576 L1876.52 72.576 L1876.52 27.2059 M1876.52 9.54393 L1883.97 9.54393 L1883.97 18.9825 L1876.52 18.9825 L1876.52 9.54393 Z\" fill=\"#000000\" fill-rule=\"evenodd\" fill-opacity=\"1\" /><path clip-path=\"url(#clip130)\" d=\"M1937.28 45.1919 L1937.28 72.576 L1929.83 72.576 L1929.83 45.4349 Q1929.83 38.994 1927.32 35.7938 Q1924.81 32.5936 1919.78 32.5936 Q1913.75 32.5936 1910.26 36.4419 Q1906.78 40.2903 1906.78 46.9338 L1906.78 72.576 L1899.29 72.576 L1899.29 27.2059 L1906.78 27.2059 L1906.78 34.2544 Q1909.45 30.163 1913.06 28.1376 Q1916.7 26.1121 1921.44 26.1121 Q1929.26 26.1121 1933.27 30.9732 Q1937.28 35.7938 1937.28 45.1919 Z\" fill=\"#000000\" fill-rule=\"evenodd\" fill-opacity=\"1\" /><circle clip-path=\"url(#clip132)\" cx=\"853.057\" cy=\"276.001\" r=\"14\" fill=\"#009af9\" fill-rule=\"evenodd\" fill-opacity=\"1\" stroke=\"#000000\" stroke-opacity=\"1\" stroke-width=\"3.2\"/>\n",
       "<circle clip-path=\"url(#clip132)\" cx=\"905.058\" cy=\"242.719\" r=\"14\" fill=\"#009af9\" fill-rule=\"evenodd\" fill-opacity=\"1\" stroke=\"#000000\" stroke-opacity=\"1\" stroke-width=\"3.2\"/>\n",
       "<circle clip-path=\"url(#clip132)\" cx=\"957.059\" cy=\"185.588\" r=\"14\" fill=\"#009af9\" fill-rule=\"evenodd\" fill-opacity=\"1\" stroke=\"#000000\" stroke-opacity=\"1\" stroke-width=\"3.2\"/>\n",
       "<circle clip-path=\"url(#clip132)\" cx=\"1009.06\" cy=\"326.974\" r=\"14\" fill=\"#009af9\" fill-rule=\"evenodd\" fill-opacity=\"1\" stroke=\"#000000\" stroke-opacity=\"1\" stroke-width=\"3.2\"/>\n",
       "<circle clip-path=\"url(#clip132)\" cx=\"1061.06\" cy=\"511.48\" r=\"14\" fill=\"#009af9\" fill-rule=\"evenodd\" fill-opacity=\"1\" stroke=\"#000000\" stroke-opacity=\"1\" stroke-width=\"3.2\"/>\n",
       "<circle clip-path=\"url(#clip132)\" cx=\"1113.06\" cy=\"541.324\" r=\"14\" fill=\"#009af9\" fill-rule=\"evenodd\" fill-opacity=\"1\" stroke=\"#000000\" stroke-opacity=\"1\" stroke-width=\"3.2\"/>\n",
       "<circle clip-path=\"url(#clip132)\" cx=\"1165.06\" cy=\"564.799\" r=\"14\" fill=\"#009af9\" fill-rule=\"evenodd\" fill-opacity=\"1\" stroke=\"#000000\" stroke-opacity=\"1\" stroke-width=\"3.2\"/>\n",
       "<circle clip-path=\"url(#clip132)\" cx=\"1217.06\" cy=\"485.106\" r=\"14\" fill=\"#009af9\" fill-rule=\"evenodd\" fill-opacity=\"1\" stroke=\"#000000\" stroke-opacity=\"1\" stroke-width=\"3.2\"/>\n",
       "<circle clip-path=\"url(#clip132)\" cx=\"1269.06\" cy=\"160.256\" r=\"14\" fill=\"#009af9\" fill-rule=\"evenodd\" fill-opacity=\"1\" stroke=\"#000000\" stroke-opacity=\"1\" stroke-width=\"3.2\"/>\n",
       "<circle clip-path=\"url(#clip132)\" cx=\"1321.06\" cy=\"267.904\" r=\"14\" fill=\"#009af9\" fill-rule=\"evenodd\" fill-opacity=\"1\" stroke=\"#000000\" stroke-opacity=\"1\" stroke-width=\"3.2\"/>\n",
       "<circle clip-path=\"url(#clip132)\" cx=\"1373.06\" cy=\"810.509\" r=\"14\" fill=\"#009af9\" fill-rule=\"evenodd\" fill-opacity=\"1\" stroke=\"#000000\" stroke-opacity=\"1\" stroke-width=\"3.2\"/>\n",
       "<circle clip-path=\"url(#clip132)\" cx=\"1425.06\" cy=\"900.547\" r=\"14\" fill=\"#009af9\" fill-rule=\"evenodd\" fill-opacity=\"1\" stroke=\"#000000\" stroke-opacity=\"1\" stroke-width=\"3.2\"/>\n",
       "<circle clip-path=\"url(#clip132)\" cx=\"1477.07\" cy=\"885.853\" r=\"14\" fill=\"#009af9\" fill-rule=\"evenodd\" fill-opacity=\"1\" stroke=\"#000000\" stroke-opacity=\"1\" stroke-width=\"3.2\"/>\n",
       "<circle clip-path=\"url(#clip132)\" cx=\"1529.07\" cy=\"1168.54\" r=\"14\" fill=\"#009af9\" fill-rule=\"evenodd\" fill-opacity=\"1\" stroke=\"#000000\" stroke-opacity=\"1\" stroke-width=\"3.2\"/>\n",
       "<circle clip-path=\"url(#clip132)\" cx=\"1581.07\" cy=\"1386.4\" r=\"14\" fill=\"#009af9\" fill-rule=\"evenodd\" fill-opacity=\"1\" stroke=\"#000000\" stroke-opacity=\"1\" stroke-width=\"3.2\"/>\n",
       "<circle clip-path=\"url(#clip132)\" cx=\"1633.07\" cy=\"1185.94\" r=\"14\" fill=\"#009af9\" fill-rule=\"evenodd\" fill-opacity=\"1\" stroke=\"#000000\" stroke-opacity=\"1\" stroke-width=\"3.2\"/>\n",
       "<circle clip-path=\"url(#clip132)\" cx=\"1685.07\" cy=\"1352.69\" r=\"14\" fill=\"#009af9\" fill-rule=\"evenodd\" fill-opacity=\"1\" stroke=\"#000000\" stroke-opacity=\"1\" stroke-width=\"3.2\"/>\n",
       "<circle clip-path=\"url(#clip132)\" cx=\"1737.07\" cy=\"1171.12\" r=\"14\" fill=\"#009af9\" fill-rule=\"evenodd\" fill-opacity=\"1\" stroke=\"#000000\" stroke-opacity=\"1\" stroke-width=\"3.2\"/>\n",
       "<circle clip-path=\"url(#clip132)\" cx=\"1789.07\" cy=\"1029.32\" r=\"14\" fill=\"#009af9\" fill-rule=\"evenodd\" fill-opacity=\"1\" stroke=\"#000000\" stroke-opacity=\"1\" stroke-width=\"3.2\"/>\n",
       "<circle clip-path=\"url(#clip132)\" cx=\"1841.07\" cy=\"1044.65\" r=\"14\" fill=\"#009af9\" fill-rule=\"evenodd\" fill-opacity=\"1\" stroke=\"#000000\" stroke-opacity=\"1\" stroke-width=\"3.2\"/>\n",
       "<circle clip-path=\"url(#clip132)\" cx=\"1893.07\" cy=\"1277.02\" r=\"14\" fill=\"#009af9\" fill-rule=\"evenodd\" fill-opacity=\"1\" stroke=\"#000000\" stroke-opacity=\"1\" stroke-width=\"3.2\"/>\n",
       "<circle clip-path=\"url(#clip132)\" cx=\"1945.07\" cy=\"381.188\" r=\"14\" fill=\"#009af9\" fill-rule=\"evenodd\" fill-opacity=\"1\" stroke=\"#000000\" stroke-opacity=\"1\" stroke-width=\"3.2\"/>\n",
       "<circle clip-path=\"url(#clip132)\" cx=\"1997.07\" cy=\"180.473\" r=\"14\" fill=\"#009af9\" fill-rule=\"evenodd\" fill-opacity=\"1\" stroke=\"#000000\" stroke-opacity=\"1\" stroke-width=\"3.2\"/>\n",
       "<circle clip-path=\"url(#clip132)\" cx=\"2049.07\" cy=\"263.147\" r=\"14\" fill=\"#009af9\" fill-rule=\"evenodd\" fill-opacity=\"1\" stroke=\"#000000\" stroke-opacity=\"1\" stroke-width=\"3.2\"/>\n",
       "<circle clip-path=\"url(#clip132)\" cx=\"2101.07\" cy=\"499.327\" r=\"14\" fill=\"#009af9\" fill-rule=\"evenodd\" fill-opacity=\"1\" stroke=\"#000000\" stroke-opacity=\"1\" stroke-width=\"3.2\"/>\n",
       "<circle clip-path=\"url(#clip132)\" cx=\"2153.07\" cy=\"1040.22\" r=\"14\" fill=\"#009af9\" fill-rule=\"evenodd\" fill-opacity=\"1\" stroke=\"#000000\" stroke-opacity=\"1\" stroke-width=\"3.2\"/>\n",
       "<circle clip-path=\"url(#clip132)\" cx=\"2205.07\" cy=\"998.991\" r=\"14\" fill=\"#009af9\" fill-rule=\"evenodd\" fill-opacity=\"1\" stroke=\"#000000\" stroke-opacity=\"1\" stroke-width=\"3.2\"/>\n",
       "<circle clip-path=\"url(#clip132)\" cx=\"2257.07\" cy=\"1160.71\" r=\"14\" fill=\"#009af9\" fill-rule=\"evenodd\" fill-opacity=\"1\" stroke=\"#000000\" stroke-opacity=\"1\" stroke-width=\"3.2\"/>\n",
       "<circle clip-path=\"url(#clip132)\" cx=\"2309.08\" cy=\"1223.96\" r=\"14\" fill=\"#009af9\" fill-rule=\"evenodd\" fill-opacity=\"1\" stroke=\"#000000\" stroke-opacity=\"1\" stroke-width=\"3.2\"/>\n",
       "</svg>\n"
      ]
     },
     "execution_count": 8,
     "metadata": {},
     "output_type": "execute_result"
    }
   ],
   "source": [
    "plot(dataBitcoin.Price, \n",
    "    title = \"Precio del BitCoin\", \n",
    "    xlabel = \"Días\",\n",
    "    ylabel = \"USD\",\n",
    "    seriestype = :scatter, \n",
    "    label= false,\n",
    "    legend= :outerleft,\n",
    ")"
   ]
  },
  {
   "cell_type": "markdown",
   "id": "529241be",
   "metadata": {},
   "source": [
    "De acuerdo a la gráfica es muy difícil saber cuál es el modelo que mejor lo ajusta pues la distribución de los datos no muestra un comportamiendo conocido, por ello proponemos diversos modelos que nos permitan hacer un ajuste a los datos y evaluaremos cuál es más útil para poder predecir el precio del bitcoin de la siguiente semana\n",
    "\n",
    "------Guiados por la gráfica proponemos diversos modelos que nos permitan hacer un ajuste a los datos, claramente los mejores modelos a plantear no son lineales pues la distribución de los datos en la gráfica no lo sugiere, por lo cual intentaremos con los modelos polinomiales de grado mayor a uno."
   ]
  },
  {
   "cell_type": "code",
   "execution_count": 5,
   "id": "f96d68e0",
   "metadata": {},
   "outputs": [
    {
     "data": {
      "text/plain": [
       "3-element Vector{Float64}:\n",
       " 45230.62523262178\n",
       "  -538.6867985592455\n",
       "    12.95598195525893"
      ]
     },
     "execution_count": 5,
     "metadata": {},
     "output_type": "execute_result"
    }
   ],
   "source": [
    "using LinearAlgebra\n",
    "\n",
    "N = size(dataBitcoin.Price,1); # Get the number of entries in the bitcoin dataframe\n",
    "\n",
    "A_1 = ones(N,1); \n",
    "A_2 = Array((1:N)); # Create an array with an enumeration of the registered dates\n",
    "A_3 = [a^2 for a in A_2];\n",
    "b = Array(dataBitcoin.Price);\n",
    "\n",
    "A = [A_1 A_2 A_3]\n",
    "\n",
    "xhat = A\\b"
   ]
  },
  {
   "cell_type": "code",
   "execution_count": null,
   "id": "bfd60e18",
   "metadata": {},
   "outputs": [],
   "source": []
  },
  {
   "cell_type": "code",
   "execution_count": null,
   "id": "f2d464a0",
   "metadata": {},
   "outputs": [],
   "source": []
  },
  {
   "cell_type": "code",
   "execution_count": null,
   "id": "39088f12",
   "metadata": {},
   "outputs": [],
   "source": []
  },
  {
   "cell_type": "markdown",
   "id": "4c515255",
   "metadata": {},
   "source": [
    "###  Punto 3\n",
    "    \n",
    "*Use least squares to determine the relationship between the bitcoin price and prices of three comodities namely, oil, silved and gold, during the last year.*    "
   ]
  },
  {
   "cell_type": "code",
   "execution_count": null,
   "id": "da5da03a",
   "metadata": {},
   "outputs": [],
   "source": []
  },
  {
   "cell_type": "code",
   "execution_count": null,
   "id": "ad367e1b",
   "metadata": {},
   "outputs": [],
   "source": []
  },
  {
   "cell_type": "code",
   "execution_count": null,
   "id": "92f70149",
   "metadata": {},
   "outputs": [],
   "source": []
  },
  {
   "cell_type": "code",
   "execution_count": null,
   "id": "85ac7ecc",
   "metadata": {},
   "outputs": [],
   "source": []
  },
  {
   "cell_type": "markdown",
   "id": "d44a6c80",
   "metadata": {},
   "source": [
    "###  Punto 4\n",
    "    \n",
    "*Solve the [point set registration problem](https://en.wikipedia.org/wiki/Point-set_registration). Hint (check: S. Umeyama, Least-Squares Estimation of Transformation Parameters Between Two Point Patterns, IEEE Trans. Pattern Anal. Mach. Intell., vol. 13, no. 4, 1991). Construct a GUI to test.*    "
   ]
  },
  {
   "cell_type": "markdown",
   "id": "86c3c430",
   "metadata": {},
   "source": [
    "El problema de *Registro de conjunto de puntos* enuncia:\n",
    "\n",
    "Dado un conjuntos de puntos $\\{\\mathcal{M},\\mathcal{S}\\} = \\{ (x_i)_{1\\leq i \\leq n} , (y_i)_{1\\leq i \\leq m} \\} \\subset \\mathbb{R}^d$ encuentre una trasformación $T^* : \\mathbb{R}^d \\to \\mathbb{R}^d$ de tal forma que los puntos $T(\\mathcal{M})$ esten mejor alineados con los puntos $\\mathcal{S}$, es decir, que de acuerdo a una función de distancia $\\mathbf{dist}(\\cdot, \\cdot)$ tengamos\n",
    "\n",
    "$$\n",
    "    T^*=\\arg \\min _{T \\in \\mathcal{T}} \\mathbf{dist}(T(\\mathcal{M}), \\mathcal{S})\n",
    "$$\n",
    "\n",
    "donde $\\mathcal{T}$ es el  conjuntos de todas transformaciones que escalan, rotan y transladan."
   ]
  },
  {
   "cell_type": "markdown",
   "id": "a3032a5f",
   "metadata": {},
   "source": [
    "En general puede ocurrir que tengamos que $n \\neq m$, para el desarrollo de este ejercicio empezaremos analizando el caso en que $n=m$, para ello haremos uso del resultado que encontramos en [1](https://web.stanford.edu/class/cs273/refs/umeyama.pdf)"
   ]
  },
  {
   "cell_type": "code",
   "execution_count": null,
   "id": "d8beb5cb",
   "metadata": {},
   "outputs": [],
   "source": []
  },
  {
   "cell_type": "code",
   "execution_count": null,
   "id": "2c341fca",
   "metadata": {},
   "outputs": [],
   "source": []
  },
  {
   "cell_type": "code",
   "execution_count": null,
   "id": "6902db32",
   "metadata": {},
   "outputs": [],
   "source": []
  },
  {
   "cell_type": "code",
   "execution_count": null,
   "id": "0543f0f0",
   "metadata": {},
   "outputs": [],
   "source": []
  },
  {
   "cell_type": "markdown",
   "id": "de207006",
   "metadata": {},
   "source": [
    "## <center> Referencias\n",
    "\n",
    "[1] S. Umeyama, Least-Squares Estimation of Transformation Parameters Between Two Point Patterns, IEEE Trans. Pattern Anal. Mach. Intell., vol. 13, no. 4, 1991"
   ]
  },
  {
   "cell_type": "code",
   "execution_count": null,
   "id": "540fa90d",
   "metadata": {},
   "outputs": [],
   "source": []
  }
 ],
 "metadata": {
  "kernelspec": {
   "display_name": "Julia 1.7.2",
   "language": "julia",
   "name": "julia-1.7"
  },
  "language_info": {
   "file_extension": ".jl",
   "mimetype": "application/julia",
   "name": "julia",
   "version": "1.7.2"
  }
 },
 "nbformat": 4,
 "nbformat_minor": 5
}
